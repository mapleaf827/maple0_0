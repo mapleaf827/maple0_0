{
 "cells": [
  {
   "cell_type": "markdown",
   "metadata": {},
   "source": [
    "## Population+Job Data Loading, Processing"
   ]
  },
  {
   "cell_type": "code",
   "execution_count": 1,
   "metadata": {},
   "outputs": [],
   "source": [
    "import requests"
   ]
  },
  {
   "cell_type": "code",
   "execution_count": 2,
   "metadata": {},
   "outputs": [],
   "source": [
    "import numpy as np\n",
    "import pandas as pd"
   ]
  },
  {
   "cell_type": "code",
   "execution_count": 3,
   "metadata": {},
   "outputs": [],
   "source": [
    "import geopandas as gpd"
   ]
  },
  {
   "cell_type": "code",
   "execution_count": 4,
   "metadata": {},
   "outputs": [],
   "source": [
    "# Get TAZ data from jobpop data locally\n",
    "jobpop = pd.read_csv('data_jobpop.csv')\n"
   ]
  },
  {
   "cell_type": "code",
   "execution_count": 5,
   "metadata": {},
   "outputs": [
    {
     "data": {
      "text/html": [
       "<div>\n",
       "<style scoped>\n",
       "    .dataframe tbody tr th:only-of-type {\n",
       "        vertical-align: middle;\n",
       "    }\n",
       "\n",
       "    .dataframe tbody tr th {\n",
       "        vertical-align: top;\n",
       "    }\n",
       "\n",
       "    .dataframe thead th {\n",
       "        text-align: right;\n",
       "    }\n",
       "</style>\n",
       "<table border=\"1\" class=\"dataframe\">\n",
       "  <thead>\n",
       "    <tr style=\"text-align: right;\">\n",
       "      <th></th>\n",
       "      <th>taz</th>\n",
       "      <th>pop2015</th>\n",
       "      <th>tot2015</th>\n",
       "      <th>jobpop2015</th>\n",
       "      <th>pop2050</th>\n",
       "      <th>tot2050</th>\n",
       "      <th>jobpop2050</th>\n",
       "    </tr>\n",
       "  </thead>\n",
       "  <tbody>\n",
       "    <tr>\n",
       "      <th>0</th>\n",
       "      <td>1</td>\n",
       "      <td>805</td>\n",
       "      <td>85</td>\n",
       "      <td>890</td>\n",
       "      <td>1020</td>\n",
       "      <td>105</td>\n",
       "      <td>1125</td>\n",
       "    </tr>\n",
       "    <tr>\n",
       "      <th>1</th>\n",
       "      <td>2</td>\n",
       "      <td>1264</td>\n",
       "      <td>58</td>\n",
       "      <td>1322</td>\n",
       "      <td>1671</td>\n",
       "      <td>58</td>\n",
       "      <td>1729</td>\n",
       "    </tr>\n",
       "    <tr>\n",
       "      <th>2</th>\n",
       "      <td>3</td>\n",
       "      <td>823</td>\n",
       "      <td>72</td>\n",
       "      <td>895</td>\n",
       "      <td>985</td>\n",
       "      <td>71</td>\n",
       "      <td>1056</td>\n",
       "    </tr>\n",
       "    <tr>\n",
       "      <th>3</th>\n",
       "      <td>4</td>\n",
       "      <td>1388</td>\n",
       "      <td>115</td>\n",
       "      <td>1503</td>\n",
       "      <td>1796</td>\n",
       "      <td>116</td>\n",
       "      <td>1912</td>\n",
       "    </tr>\n",
       "    <tr>\n",
       "      <th>4</th>\n",
       "      <td>5</td>\n",
       "      <td>1367</td>\n",
       "      <td>53</td>\n",
       "      <td>1420</td>\n",
       "      <td>1448</td>\n",
       "      <td>39</td>\n",
       "      <td>1487</td>\n",
       "    </tr>\n",
       "  </tbody>\n",
       "</table>\n",
       "</div>"
      ],
      "text/plain": [
       "   taz  pop2015  tot2015  jobpop2015  pop2050  tot2050  jobpop2050\n",
       "0    1      805       85         890     1020      105        1125\n",
       "1    2     1264       58        1322     1671       58        1729\n",
       "2    3      823       72         895      985       71        1056\n",
       "3    4     1388      115        1503     1796      116        1912\n",
       "4    5     1367       53        1420     1448       39        1487"
      ]
     },
     "execution_count": 5,
     "metadata": {},
     "output_type": "execute_result"
    }
   ],
   "source": [
    "jobpop.head()"
   ]
  },
  {
   "cell_type": "code",
   "execution_count": 6,
   "metadata": {},
   "outputs": [],
   "source": [
    "jp2050=jobpop[['taz','jobpop2050']].copy()"
   ]
  },
  {
   "cell_type": "code",
   "execution_count": 7,
   "metadata": {},
   "outputs": [
    {
     "data": {
      "text/html": [
       "<div>\n",
       "<style scoped>\n",
       "    .dataframe tbody tr th:only-of-type {\n",
       "        vertical-align: middle;\n",
       "    }\n",
       "\n",
       "    .dataframe tbody tr th {\n",
       "        vertical-align: top;\n",
       "    }\n",
       "\n",
       "    .dataframe thead th {\n",
       "        text-align: right;\n",
       "    }\n",
       "</style>\n",
       "<table border=\"1\" class=\"dataframe\">\n",
       "  <thead>\n",
       "    <tr style=\"text-align: right;\">\n",
       "      <th></th>\n",
       "      <th>taz</th>\n",
       "      <th>jobpop2050</th>\n",
       "    </tr>\n",
       "  </thead>\n",
       "  <tbody>\n",
       "    <tr>\n",
       "      <th>0</th>\n",
       "      <td>1</td>\n",
       "      <td>1125</td>\n",
       "    </tr>\n",
       "    <tr>\n",
       "      <th>1</th>\n",
       "      <td>2</td>\n",
       "      <td>1729</td>\n",
       "    </tr>\n",
       "    <tr>\n",
       "      <th>2</th>\n",
       "      <td>3</td>\n",
       "      <td>1056</td>\n",
       "    </tr>\n",
       "    <tr>\n",
       "      <th>3</th>\n",
       "      <td>4</td>\n",
       "      <td>1912</td>\n",
       "    </tr>\n",
       "    <tr>\n",
       "      <th>4</th>\n",
       "      <td>5</td>\n",
       "      <td>1487</td>\n",
       "    </tr>\n",
       "  </tbody>\n",
       "</table>\n",
       "</div>"
      ],
      "text/plain": [
       "   taz  jobpop2050\n",
       "0    1        1125\n",
       "1    2        1729\n",
       "2    3        1056\n",
       "3    4        1912\n",
       "4    5        1487"
      ]
     },
     "execution_count": 7,
     "metadata": {},
     "output_type": "execute_result"
    }
   ],
   "source": [
    "jp2050.head()"
   ]
  },
  {
   "cell_type": "code",
   "execution_count": 8,
   "metadata": {},
   "outputs": [],
   "source": [
    "import matplotlib.pyplot as plt"
   ]
  },
  {
   "cell_type": "code",
   "execution_count": 9,
   "metadata": {},
   "outputs": [
    {
     "data": {
      "image/png": "[encoded data removed]",
      "text/plain": [
       "<Figure size 432x288 with 1 Axes>"
      ]
     },
     "metadata": {
      "needs_background": "light"
     },
     "output_type": "display_data"
    }
   ],
   "source": [
    "# Add a bar graph to the current (empty) Matplotlib chart\n",
    "#plt.bar(['taz'], jp2050)\n",
    "\n",
    "jp2050['jobpop2050'].plot.hist()\n",
    "\n",
    "# Display the current chart\n",
    "plt.show()"
   ]
  },
  {
   "cell_type": "code",
   "execution_count": 10,
   "metadata": {},
   "outputs": [
    {
     "data": {
      "text/plain": [
       "981"
      ]
     },
     "execution_count": 10,
     "metadata": {},
     "output_type": "execute_result"
    }
   ],
   "source": [
    "# add weight factor variable(column) to data\n",
    "wt1=[]\n",
    "\n",
    "for a in range(len(jp2050)):\n",
    "    wt1.append(0)\n",
    "    \n",
    "len(wt1)"
   ]
  },
  {
   "cell_type": "code",
   "execution_count": 11,
   "metadata": {
    "scrolled": true
   },
   "outputs": [
    {
     "data": {
      "text/html": [
       "<div>\n",
       "<style scoped>\n",
       "    .dataframe tbody tr th:only-of-type {\n",
       "        vertical-align: middle;\n",
       "    }\n",
       "\n",
       "    .dataframe tbody tr th {\n",
       "        vertical-align: top;\n",
       "    }\n",
       "\n",
       "    .dataframe thead th {\n",
       "        text-align: right;\n",
       "    }\n",
       "</style>\n",
       "<table border=\"1\" class=\"dataframe\">\n",
       "  <thead>\n",
       "    <tr style=\"text-align: right;\">\n",
       "      <th></th>\n",
       "      <th>taz</th>\n",
       "      <th>jobpop2050</th>\n",
       "      <th>WeightFac</th>\n",
       "    </tr>\n",
       "  </thead>\n",
       "  <tbody>\n",
       "    <tr>\n",
       "      <th>0</th>\n",
       "      <td>1</td>\n",
       "      <td>1125</td>\n",
       "      <td>0</td>\n",
       "    </tr>\n",
       "    <tr>\n",
       "      <th>1</th>\n",
       "      <td>2</td>\n",
       "      <td>1729</td>\n",
       "      <td>0</td>\n",
       "    </tr>\n",
       "    <tr>\n",
       "      <th>2</th>\n",
       "      <td>3</td>\n",
       "      <td>1056</td>\n",
       "      <td>0</td>\n",
       "    </tr>\n",
       "    <tr>\n",
       "      <th>3</th>\n",
       "      <td>4</td>\n",
       "      <td>1912</td>\n",
       "      <td>0</td>\n",
       "    </tr>\n",
       "    <tr>\n",
       "      <th>4</th>\n",
       "      <td>5</td>\n",
       "      <td>1487</td>\n",
       "      <td>0</td>\n",
       "    </tr>\n",
       "  </tbody>\n",
       "</table>\n",
       "</div>"
      ],
      "text/plain": [
       "   taz  jobpop2050  WeightFac\n",
       "0    1        1125          0\n",
       "1    2        1729          0\n",
       "2    3        1056          0\n",
       "3    4        1912          0\n",
       "4    5        1487          0"
      ]
     },
     "execution_count": 11,
     "metadata": {},
     "output_type": "execute_result"
    }
   ],
   "source": [
    "jp2050['WeightFac'] = wt1\n",
    "\n",
    "jp2050.head()"
   ]
  },
  {
   "cell_type": "code",
   "execution_count": 12,
   "metadata": {},
   "outputs": [],
   "source": [
    "# use 25%, 50%, and 75% as guides, set weight factors for each taz data\n",
    "\n",
    "jp2050.jobpop2050.describe()\n",
    "sta1=jp2050.jobpop2050.describe()"
   ]
  },
  {
   "cell_type": "code",
   "execution_count": 13,
   "metadata": {},
   "outputs": [],
   "source": [
    "# Weight Factor Assignment\n",
    "\n",
    "jp2050.loc[jp2050['jobpop2050'] <= sta1['25%'], 'WeightFac'] = -1.0\n",
    "jp2050.loc[(jp2050['jobpop2050'] >= sta1['25%']) & (jp2050['jobpop2050'] <= sta1['50%']), 'WeightFac'] = 0.0\n",
    "jp2050.loc[(jp2050['jobpop2050'] >= sta1['50%']) & (jp2050['jobpop2050'] <= sta1['75%']), 'WeightFac'] = 2.0\n",
    "jp2050.loc[jp2050['jobpop2050'] >= sta1['75%'], 'WeightFac'] = 4.0"
   ]
  },
  {
   "cell_type": "code",
   "execution_count": 14,
   "metadata": {
    "scrolled": false
   },
   "outputs": [
    {
     "data": {
      "text/html": [
       "<div>\n",
       "<style scoped>\n",
       "    .dataframe tbody tr th:only-of-type {\n",
       "        vertical-align: middle;\n",
       "    }\n",
       "\n",
       "    .dataframe tbody tr th {\n",
       "        vertical-align: top;\n",
       "    }\n",
       "\n",
       "    .dataframe thead th {\n",
       "        text-align: right;\n",
       "    }\n",
       "</style>\n",
       "<table border=\"1\" class=\"dataframe\">\n",
       "  <thead>\n",
       "    <tr style=\"text-align: right;\">\n",
       "      <th></th>\n",
       "      <th>taz</th>\n",
       "      <th>jobpop2050</th>\n",
       "      <th>WeightFac</th>\n",
       "    </tr>\n",
       "  </thead>\n",
       "  <tbody>\n",
       "    <tr>\n",
       "      <th>0</th>\n",
       "      <td>1</td>\n",
       "      <td>1125</td>\n",
       "      <td>0.0</td>\n",
       "    </tr>\n",
       "    <tr>\n",
       "      <th>1</th>\n",
       "      <td>2</td>\n",
       "      <td>1729</td>\n",
       "      <td>0.0</td>\n",
       "    </tr>\n",
       "    <tr>\n",
       "      <th>2</th>\n",
       "      <td>3</td>\n",
       "      <td>1056</td>\n",
       "      <td>-1.0</td>\n",
       "    </tr>\n",
       "    <tr>\n",
       "      <th>3</th>\n",
       "      <td>4</td>\n",
       "      <td>1912</td>\n",
       "      <td>2.0</td>\n",
       "    </tr>\n",
       "    <tr>\n",
       "      <th>4</th>\n",
       "      <td>5</td>\n",
       "      <td>1487</td>\n",
       "      <td>0.0</td>\n",
       "    </tr>\n",
       "  </tbody>\n",
       "</table>\n",
       "</div>"
      ],
      "text/plain": [
       "   taz  jobpop2050  WeightFac\n",
       "0    1        1125        0.0\n",
       "1    2        1729        0.0\n",
       "2    3        1056       -1.0\n",
       "3    4        1912        2.0\n",
       "4    5        1487        0.0"
      ]
     },
     "execution_count": 14,
     "metadata": {},
     "output_type": "execute_result"
    }
   ],
   "source": [
    "jp2050.head()"
   ]
  },
  {
   "cell_type": "markdown",
   "metadata": {},
   "source": [
    "## TAZ Data Loading + Processing"
   ]
  },
  {
   "cell_type": "code",
   "execution_count": 15,
   "metadata": {},
   "outputs": [],
   "source": [
    "# download TAZ data from SFTCA\n",
    "\n",
    "url = 'https://www.sfcta.org/sites/default/files/2019-06/TAZ981.zip'\n",
    "\n",
    "with open('TAZ981.zip', 'wb') as f:\n",
    "    r = requests.get(url)\n",
    "    f.write(r.content)"
   ]
  },
  {
   "cell_type": "code",
   "execution_count": 16,
   "metadata": {},
   "outputs": [],
   "source": [
    "taz = gpd.read_file('zip://TAZ981.zip')"
   ]
  },
  {
   "cell_type": "code",
   "execution_count": 17,
   "metadata": {},
   "outputs": [],
   "source": [
    "taz['taz']=taz['TAZ']"
   ]
  },
  {
   "cell_type": "code",
   "execution_count": 18,
   "metadata": {},
   "outputs": [
    {
     "data": {
      "text/html": [
       "<div>\n",
       "<style scoped>\n",
       "    .dataframe tbody tr th:only-of-type {\n",
       "        vertical-align: middle;\n",
       "    }\n",
       "\n",
       "    .dataframe tbody tr th {\n",
       "        vertical-align: top;\n",
       "    }\n",
       "\n",
       "    .dataframe thead th {\n",
       "        text-align: right;\n",
       "    }\n",
       "</style>\n",
       "<table border=\"1\" class=\"dataframe\">\n",
       "  <thead>\n",
       "    <tr style=\"text-align: right;\">\n",
       "      <th></th>\n",
       "      <th>TAZ</th>\n",
       "      <th>geometry</th>\n",
       "      <th>taz</th>\n",
       "    </tr>\n",
       "  </thead>\n",
       "  <tbody>\n",
       "    <tr>\n",
       "      <th>0</th>\n",
       "      <td>1</td>\n",
       "      <td>POLYGON ((6007378.500054573 2086055.37391938, ...</td>\n",
       "      <td>1</td>\n",
       "    </tr>\n",
       "    <tr>\n",
       "      <th>1</th>\n",
       "      <td>2</td>\n",
       "      <td>POLYGON ((5992137.499592379 2086335.12355164, ...</td>\n",
       "      <td>2</td>\n",
       "    </tr>\n",
       "    <tr>\n",
       "      <th>2</th>\n",
       "      <td>3</td>\n",
       "      <td>POLYGON ((6004983.499220342 2086750.499936027,...</td>\n",
       "      <td>3</td>\n",
       "    </tr>\n",
       "    <tr>\n",
       "      <th>3</th>\n",
       "      <td>4</td>\n",
       "      <td>POLYGON ((5994473.501130554 2087145.000032395,...</td>\n",
       "      <td>4</td>\n",
       "    </tr>\n",
       "    <tr>\n",
       "      <th>4</th>\n",
       "      <td>5</td>\n",
       "      <td>POLYGON ((6006265.000917536 2086079.750239403,...</td>\n",
       "      <td>5</td>\n",
       "    </tr>\n",
       "  </tbody>\n",
       "</table>\n",
       "</div>"
      ],
      "text/plain": [
       "   TAZ                                           geometry  taz\n",
       "0    1  POLYGON ((6007378.500054573 2086055.37391938, ...    1\n",
       "1    2  POLYGON ((5992137.499592379 2086335.12355164, ...    2\n",
       "2    3  POLYGON ((6004983.499220342 2086750.499936027,...    3\n",
       "3    4  POLYGON ((5994473.501130554 2087145.000032395,...    4\n",
       "4    5  POLYGON ((6006265.000917536 2086079.750239403,...    5"
      ]
     },
     "execution_count": 18,
     "metadata": {},
     "output_type": "execute_result"
    }
   ],
   "source": [
    "taz.head()"
   ]
  },
  {
   "cell_type": "markdown",
   "metadata": {},
   "source": [
    "## TNC Data Loading + Processing"
   ]
  },
  {
   "cell_type": "code",
   "execution_count": 24,
   "metadata": {},
   "outputs": [],
   "source": [
    "# Get TAZ data from TNC data locally\n",
    "tnc = pd.read_csv('trip_stats_taz_0.csv')"
   ]
  },
  {
   "cell_type": "code",
   "execution_count": 25,
   "metadata": {},
   "outputs": [
    {
     "data": {
      "text/html": [
       "<div>\n",
       "<style scoped>\n",
       "    .dataframe tbody tr th:only-of-type {\n",
       "        vertical-align: middle;\n",
       "    }\n",
       "\n",
       "    .dataframe tbody tr th {\n",
       "        vertical-align: top;\n",
       "    }\n",
       "\n",
       "    .dataframe thead th {\n",
       "        text-align: right;\n",
       "    }\n",
       "</style>\n",
       "<table border=\"1\" class=\"dataframe\">\n",
       "  <thead>\n",
       "    <tr style=\"text-align: right;\">\n",
       "      <th></th>\n",
       "      <th>taz</th>\n",
       "      <th>day_of_week</th>\n",
       "      <th>hour</th>\n",
       "      <th>pickups</th>\n",
       "      <th>dropoffs</th>\n",
       "    </tr>\n",
       "  </thead>\n",
       "  <tbody>\n",
       "    <tr>\n",
       "      <th>0</th>\n",
       "      <td>1</td>\n",
       "      <td>0</td>\n",
       "      <td>3</td>\n",
       "      <td>0.6</td>\n",
       "      <td>0.4</td>\n",
       "    </tr>\n",
       "    <tr>\n",
       "      <th>1</th>\n",
       "      <td>1</td>\n",
       "      <td>0</td>\n",
       "      <td>4</td>\n",
       "      <td>0.0</td>\n",
       "      <td>0.4</td>\n",
       "    </tr>\n",
       "    <tr>\n",
       "      <th>2</th>\n",
       "      <td>1</td>\n",
       "      <td>0</td>\n",
       "      <td>5</td>\n",
       "      <td>0.6</td>\n",
       "      <td>0.6</td>\n",
       "    </tr>\n",
       "    <tr>\n",
       "      <th>3</th>\n",
       "      <td>1</td>\n",
       "      <td>0</td>\n",
       "      <td>6</td>\n",
       "      <td>0.8</td>\n",
       "      <td>1.0</td>\n",
       "    </tr>\n",
       "    <tr>\n",
       "      <th>4</th>\n",
       "      <td>1</td>\n",
       "      <td>0</td>\n",
       "      <td>7</td>\n",
       "      <td>0.6</td>\n",
       "      <td>0.8</td>\n",
       "    </tr>\n",
       "  </tbody>\n",
       "</table>\n",
       "</div>"
      ],
      "text/plain": [
       "   taz  day_of_week  hour  pickups  dropoffs\n",
       "0    1            0     3      0.6       0.4\n",
       "1    1            0     4      0.0       0.4\n",
       "2    1            0     5      0.6       0.6\n",
       "3    1            0     6      0.8       1.0\n",
       "4    1            0     7      0.6       0.8"
      ]
     },
     "execution_count": 25,
     "metadata": {},
     "output_type": "execute_result"
    }
   ],
   "source": [
    "tnc.head()"
   ]
  },
  {
   "cell_type": "code",
   "execution_count": 26,
   "metadata": {},
   "outputs": [],
   "source": [
    "# Group data by TAZ\n",
    "\n",
    "tnc2=tnc.groupby('taz').mean()"
   ]
  },
  {
   "cell_type": "code",
   "execution_count": 27,
   "metadata": {},
   "outputs": [
    {
     "data": {
      "text/plain": [
       "981"
      ]
     },
     "execution_count": 27,
     "metadata": {},
     "output_type": "execute_result"
    }
   ],
   "source": [
    "len(tnc2)"
   ]
  },
  {
   "cell_type": "code",
   "execution_count": 28,
   "metadata": {
    "scrolled": false
   },
   "outputs": [
    {
     "data": {
      "text/plain": [
       "pandas.core.frame.DataFrame"
      ]
     },
     "execution_count": 28,
     "metadata": {},
     "output_type": "execute_result"
    }
   ],
   "source": [
    "type(tnc2)"
   ]
  },
  {
   "cell_type": "code",
   "execution_count": 29,
   "metadata": {},
   "outputs": [
    {
     "data": {
      "text/plain": [
       "164808"
      ]
     },
     "execution_count": 29,
     "metadata": {},
     "output_type": "execute_result"
    }
   ],
   "source": [
    "len(tnc)"
   ]
  },
  {
   "cell_type": "code",
   "execution_count": 30,
   "metadata": {},
   "outputs": [
    {
     "data": {
      "text/plain": [
       "981"
      ]
     },
     "execution_count": 30,
     "metadata": {},
     "output_type": "execute_result"
    }
   ],
   "source": [
    "wt2=[]\n",
    "\n",
    "for a in range(len(tnc2)):\n",
    "    wt2.append(0)\n",
    "    \n",
    "len(wt2)"
   ]
  },
  {
   "cell_type": "code",
   "execution_count": 31,
   "metadata": {},
   "outputs": [
    {
     "data": {
      "text/html": [
       "<div>\n",
       "<style scoped>\n",
       "    .dataframe tbody tr th:only-of-type {\n",
       "        vertical-align: middle;\n",
       "    }\n",
       "\n",
       "    .dataframe tbody tr th {\n",
       "        vertical-align: top;\n",
       "    }\n",
       "\n",
       "    .dataframe thead th {\n",
       "        text-align: right;\n",
       "    }\n",
       "</style>\n",
       "<table border=\"1\" class=\"dataframe\">\n",
       "  <thead>\n",
       "    <tr style=\"text-align: right;\">\n",
       "      <th></th>\n",
       "      <th>day_of_week</th>\n",
       "      <th>hour</th>\n",
       "      <th>pickups</th>\n",
       "      <th>dropoffs</th>\n",
       "      <th>WeightFac</th>\n",
       "    </tr>\n",
       "    <tr>\n",
       "      <th>taz</th>\n",
       "      <th></th>\n",
       "      <th></th>\n",
       "      <th></th>\n",
       "      <th></th>\n",
       "      <th></th>\n",
       "    </tr>\n",
       "  </thead>\n",
       "  <tbody>\n",
       "    <tr>\n",
       "      <th>1</th>\n",
       "      <td>3.0</td>\n",
       "      <td>14.5</td>\n",
       "      <td>0.674702</td>\n",
       "      <td>0.611012</td>\n",
       "      <td>0</td>\n",
       "    </tr>\n",
       "    <tr>\n",
       "      <th>2</th>\n",
       "      <td>3.0</td>\n",
       "      <td>14.5</td>\n",
       "      <td>1.423810</td>\n",
       "      <td>1.621131</td>\n",
       "      <td>0</td>\n",
       "    </tr>\n",
       "    <tr>\n",
       "      <th>3</th>\n",
       "      <td>3.0</td>\n",
       "      <td>14.5</td>\n",
       "      <td>0.836905</td>\n",
       "      <td>0.896429</td>\n",
       "      <td>0</td>\n",
       "    </tr>\n",
       "    <tr>\n",
       "      <th>4</th>\n",
       "      <td>3.0</td>\n",
       "      <td>14.5</td>\n",
       "      <td>3.828869</td>\n",
       "      <td>4.127976</td>\n",
       "      <td>0</td>\n",
       "    </tr>\n",
       "    <tr>\n",
       "      <th>5</th>\n",
       "      <td>3.0</td>\n",
       "      <td>14.5</td>\n",
       "      <td>0.661905</td>\n",
       "      <td>0.522321</td>\n",
       "      <td>0</td>\n",
       "    </tr>\n",
       "  </tbody>\n",
       "</table>\n",
       "</div>"
      ],
      "text/plain": [
       "     day_of_week  hour   pickups  dropoffs  WeightFac\n",
       "taz                                                  \n",
       "1            3.0  14.5  0.674702  0.611012          0\n",
       "2            3.0  14.5  1.423810  1.621131          0\n",
       "3            3.0  14.5  0.836905  0.896429          0\n",
       "4            3.0  14.5  3.828869  4.127976          0\n",
       "5            3.0  14.5  0.661905  0.522321          0"
      ]
     },
     "execution_count": 31,
     "metadata": {},
     "output_type": "execute_result"
    }
   ],
   "source": [
    "tnc2['WeightFac'] = wt2\n",
    "\n",
    "tnc2.head()"
   ]
  },
  {
   "cell_type": "code",
   "execution_count": 32,
   "metadata": {},
   "outputs": [
    {
     "data": {
      "text/plain": [
       "count    164808.000000\n",
       "mean          7.361588\n",
       "std          10.608212\n",
       "min           0.000000\n",
       "25%           1.200000\n",
       "50%           3.400000\n",
       "75%           9.400000\n",
       "max         201.750000\n",
       "Name: pickups, dtype: float64"
      ]
     },
     "execution_count": 32,
     "metadata": {},
     "output_type": "execute_result"
    }
   ],
   "source": [
    "tnc.pickups.describe()"
   ]
  },
  {
   "cell_type": "code",
   "execution_count": 33,
   "metadata": {},
   "outputs": [],
   "source": [
    "# use 25%, 50%, and 75% as guides, set weight factors for each taz data\n",
    "\n",
    "sta=tnc2.pickups.describe()"
   ]
  },
  {
   "cell_type": "code",
   "execution_count": 34,
   "metadata": {},
   "outputs": [
    {
     "data": {
      "text/plain": [
       "1.888690476190476"
      ]
     },
     "execution_count": 34,
     "metadata": {},
     "output_type": "execute_result"
    }
   ],
   "source": [
    "sta['25%']"
   ]
  },
  {
   "cell_type": "code",
   "execution_count": 35,
   "metadata": {},
   "outputs": [
    {
     "data": {
      "text/html": [
       "<div>\n",
       "<style scoped>\n",
       "    .dataframe tbody tr th:only-of-type {\n",
       "        vertical-align: middle;\n",
       "    }\n",
       "\n",
       "    .dataframe tbody tr th {\n",
       "        vertical-align: top;\n",
       "    }\n",
       "\n",
       "    .dataframe thead th {\n",
       "        text-align: right;\n",
       "    }\n",
       "</style>\n",
       "<table border=\"1\" class=\"dataframe\">\n",
       "  <thead>\n",
       "    <tr style=\"text-align: right;\">\n",
       "      <th></th>\n",
       "      <th>day_of_week</th>\n",
       "      <th>hour</th>\n",
       "      <th>pickups</th>\n",
       "      <th>dropoffs</th>\n",
       "      <th>WeightFac</th>\n",
       "    </tr>\n",
       "    <tr>\n",
       "      <th>taz</th>\n",
       "      <th></th>\n",
       "      <th></th>\n",
       "      <th></th>\n",
       "      <th></th>\n",
       "      <th></th>\n",
       "    </tr>\n",
       "  </thead>\n",
       "  <tbody>\n",
       "    <tr>\n",
       "      <th>1</th>\n",
       "      <td>3.0</td>\n",
       "      <td>14.5</td>\n",
       "      <td>0.674702</td>\n",
       "      <td>0.611012</td>\n",
       "      <td>0</td>\n",
       "    </tr>\n",
       "    <tr>\n",
       "      <th>2</th>\n",
       "      <td>3.0</td>\n",
       "      <td>14.5</td>\n",
       "      <td>1.423810</td>\n",
       "      <td>1.621131</td>\n",
       "      <td>0</td>\n",
       "    </tr>\n",
       "    <tr>\n",
       "      <th>3</th>\n",
       "      <td>3.0</td>\n",
       "      <td>14.5</td>\n",
       "      <td>0.836905</td>\n",
       "      <td>0.896429</td>\n",
       "      <td>0</td>\n",
       "    </tr>\n",
       "    <tr>\n",
       "      <th>4</th>\n",
       "      <td>3.0</td>\n",
       "      <td>14.5</td>\n",
       "      <td>3.828869</td>\n",
       "      <td>4.127976</td>\n",
       "      <td>0</td>\n",
       "    </tr>\n",
       "    <tr>\n",
       "      <th>5</th>\n",
       "      <td>3.0</td>\n",
       "      <td>14.5</td>\n",
       "      <td>0.661905</td>\n",
       "      <td>0.522321</td>\n",
       "      <td>0</td>\n",
       "    </tr>\n",
       "  </tbody>\n",
       "</table>\n",
       "</div>"
      ],
      "text/plain": [
       "     day_of_week  hour   pickups  dropoffs  WeightFac\n",
       "taz                                                  \n",
       "1            3.0  14.5  0.674702  0.611012          0\n",
       "2            3.0  14.5  1.423810  1.621131          0\n",
       "3            3.0  14.5  0.836905  0.896429          0\n",
       "4            3.0  14.5  3.828869  4.127976          0\n",
       "5            3.0  14.5  0.661905  0.522321          0"
      ]
     },
     "execution_count": 35,
     "metadata": {},
     "output_type": "execute_result"
    }
   ],
   "source": [
    "tnc2.head()"
   ]
  },
  {
   "cell_type": "code",
   "execution_count": 36,
   "metadata": {
    "scrolled": true
   },
   "outputs": [
    {
     "data": {
      "text/plain": [
       "Index(['day_of_week', 'hour', 'pickups', 'dropoffs', 'WeightFac'], dtype='object')"
      ]
     },
     "execution_count": 36,
     "metadata": {},
     "output_type": "execute_result"
    }
   ],
   "source": [
    "tnc2.columns"
   ]
  },
  {
   "cell_type": "code",
   "execution_count": 38,
   "metadata": {},
   "outputs": [],
   "source": [
    "# average pickups+dropoffs\n",
    "\n",
    "tnc2['pick_drop']=(tnc2['pickups']+tnc2['dropoffs'])/2"
   ]
  },
  {
   "cell_type": "code",
   "execution_count": 39,
   "metadata": {},
   "outputs": [],
   "source": [
    "# Weight Factor Assignment\n",
    "\n",
    "tnc2.loc[tnc2['pick_drop'] <= sta['25%'], 'WeightFac'] = -1.0\n",
    "tnc2.loc[(tnc2['pick_drop'] >= sta['25%']) & (tnc2['pick_drop'] <= sta['50%']), 'WeightFac'] = 0.0\n",
    "tnc2.loc[(tnc2['pick_drop'] >= sta['50%']) & (tnc2['pick_drop'] <= sta['75%']), 'WeightFac'] = 2.0\n",
    "tnc2.loc[tnc2['pick_drop'] >= sta['75%'], 'WeightFac'] = 4.0"
   ]
  },
  {
   "cell_type": "code",
   "execution_count": 40,
   "metadata": {},
   "outputs": [
    {
     "data": {
      "text/html": [
       "<div>\n",
       "<style scoped>\n",
       "    .dataframe tbody tr th:only-of-type {\n",
       "        vertical-align: middle;\n",
       "    }\n",
       "\n",
       "    .dataframe tbody tr th {\n",
       "        vertical-align: top;\n",
       "    }\n",
       "\n",
       "    .dataframe thead th {\n",
       "        text-align: right;\n",
       "    }\n",
       "</style>\n",
       "<table border=\"1\" class=\"dataframe\">\n",
       "  <thead>\n",
       "    <tr style=\"text-align: right;\">\n",
       "      <th></th>\n",
       "      <th>day_of_week</th>\n",
       "      <th>hour</th>\n",
       "      <th>pickups</th>\n",
       "      <th>dropoffs</th>\n",
       "      <th>WeightFac</th>\n",
       "      <th>pick_drop</th>\n",
       "    </tr>\n",
       "    <tr>\n",
       "      <th>taz</th>\n",
       "      <th></th>\n",
       "      <th></th>\n",
       "      <th></th>\n",
       "      <th></th>\n",
       "      <th></th>\n",
       "      <th></th>\n",
       "    </tr>\n",
       "  </thead>\n",
       "  <tbody>\n",
       "    <tr>\n",
       "      <th>1</th>\n",
       "      <td>3.0</td>\n",
       "      <td>14.5</td>\n",
       "      <td>0.674702</td>\n",
       "      <td>0.611012</td>\n",
       "      <td>-1.0</td>\n",
       "      <td>0.642857</td>\n",
       "    </tr>\n",
       "    <tr>\n",
       "      <th>2</th>\n",
       "      <td>3.0</td>\n",
       "      <td>14.5</td>\n",
       "      <td>1.423810</td>\n",
       "      <td>1.621131</td>\n",
       "      <td>-1.0</td>\n",
       "      <td>1.522470</td>\n",
       "    </tr>\n",
       "    <tr>\n",
       "      <th>3</th>\n",
       "      <td>3.0</td>\n",
       "      <td>14.5</td>\n",
       "      <td>0.836905</td>\n",
       "      <td>0.896429</td>\n",
       "      <td>-1.0</td>\n",
       "      <td>0.866667</td>\n",
       "    </tr>\n",
       "    <tr>\n",
       "      <th>4</th>\n",
       "      <td>3.0</td>\n",
       "      <td>14.5</td>\n",
       "      <td>3.828869</td>\n",
       "      <td>4.127976</td>\n",
       "      <td>0.0</td>\n",
       "      <td>3.978423</td>\n",
       "    </tr>\n",
       "    <tr>\n",
       "      <th>5</th>\n",
       "      <td>3.0</td>\n",
       "      <td>14.5</td>\n",
       "      <td>0.661905</td>\n",
       "      <td>0.522321</td>\n",
       "      <td>-1.0</td>\n",
       "      <td>0.592113</td>\n",
       "    </tr>\n",
       "  </tbody>\n",
       "</table>\n",
       "</div>"
      ],
      "text/plain": [
       "     day_of_week  hour   pickups  dropoffs  WeightFac  pick_drop\n",
       "taz                                                             \n",
       "1            3.0  14.5  0.674702  0.611012       -1.0   0.642857\n",
       "2            3.0  14.5  1.423810  1.621131       -1.0   1.522470\n",
       "3            3.0  14.5  0.836905  0.896429       -1.0   0.866667\n",
       "4            3.0  14.5  3.828869  4.127976        0.0   3.978423\n",
       "5            3.0  14.5  0.661905  0.522321       -1.0   0.592113"
      ]
     },
     "execution_count": 40,
     "metadata": {},
     "output_type": "execute_result"
    }
   ],
   "source": [
    "tnc2.head()"
   ]
  },
  {
   "cell_type": "markdown",
   "metadata": {},
   "source": [
    "## Plotting Job and Population Data Results on SF Map"
   ]
  },
  {
   "cell_type": "code",
   "execution_count": 42,
   "metadata": {
    "scrolled": true
   },
   "outputs": [
    {
     "data": {
      "text/html": [
       "<div>\n",
       "<style scoped>\n",
       "    .dataframe tbody tr th:only-of-type {\n",
       "        vertical-align: middle;\n",
       "    }\n",
       "\n",
       "    .dataframe tbody tr th {\n",
       "        vertical-align: top;\n",
       "    }\n",
       "\n",
       "    .dataframe thead th {\n",
       "        text-align: right;\n",
       "    }\n",
       "</style>\n",
       "<table border=\"1\" class=\"dataframe\">\n",
       "  <thead>\n",
       "    <tr style=\"text-align: right;\">\n",
       "      <th></th>\n",
       "      <th>TAZ</th>\n",
       "      <th>geometry</th>\n",
       "      <th>taz</th>\n",
       "      <th>jobpop2050</th>\n",
       "      <th>WeightFac</th>\n",
       "    </tr>\n",
       "  </thead>\n",
       "  <tbody>\n",
       "    <tr>\n",
       "      <th>0</th>\n",
       "      <td>1</td>\n",
       "      <td>POLYGON ((6007378.500054573 2086055.37391938, ...</td>\n",
       "      <td>1</td>\n",
       "      <td>1125</td>\n",
       "      <td>0.0</td>\n",
       "    </tr>\n",
       "    <tr>\n",
       "      <th>1</th>\n",
       "      <td>2</td>\n",
       "      <td>POLYGON ((5992137.499592379 2086335.12355164, ...</td>\n",
       "      <td>2</td>\n",
       "      <td>1729</td>\n",
       "      <td>0.0</td>\n",
       "    </tr>\n",
       "    <tr>\n",
       "      <th>2</th>\n",
       "      <td>3</td>\n",
       "      <td>POLYGON ((6004983.499220342 2086750.499936027,...</td>\n",
       "      <td>3</td>\n",
       "      <td>1056</td>\n",
       "      <td>-1.0</td>\n",
       "    </tr>\n",
       "    <tr>\n",
       "      <th>3</th>\n",
       "      <td>4</td>\n",
       "      <td>POLYGON ((5994473.501130554 2087145.000032395,...</td>\n",
       "      <td>4</td>\n",
       "      <td>1912</td>\n",
       "      <td>2.0</td>\n",
       "    </tr>\n",
       "    <tr>\n",
       "      <th>4</th>\n",
       "      <td>5</td>\n",
       "      <td>POLYGON ((6006265.000917536 2086079.750239403,...</td>\n",
       "      <td>5</td>\n",
       "      <td>1487</td>\n",
       "      <td>0.0</td>\n",
       "    </tr>\n",
       "  </tbody>\n",
       "</table>\n",
       "</div>"
      ],
      "text/plain": [
       "   TAZ                                           geometry  taz  jobpop2050  \\\n",
       "0    1  POLYGON ((6007378.500054573 2086055.37391938, ...    1        1125   \n",
       "1    2  POLYGON ((5992137.499592379 2086335.12355164, ...    2        1729   \n",
       "2    3  POLYGON ((6004983.499220342 2086750.499936027,...    3        1056   \n",
       "3    4  POLYGON ((5994473.501130554 2087145.000032395,...    4        1912   \n",
       "4    5  POLYGON ((6006265.000917536 2086079.750239403,...    5        1487   \n",
       "\n",
       "   WeightFac  \n",
       "0        0.0  \n",
       "1        0.0  \n",
       "2       -1.0  \n",
       "3        2.0  \n",
       "4        0.0  "
      ]
     },
     "execution_count": 42,
     "metadata": {},
     "output_type": "execute_result"
    }
   ],
   "source": [
    "jobpop_plot = taz.copy(deep=True)\n",
    "jobpop_plot = jobpop_plot.merge(jp2050, on='taz')\n",
    "jobpop_plot.head()"
   ]
  },
  {
   "cell_type": "code",
   "execution_count": 43,
   "metadata": {},
   "outputs": [],
   "source": [
    "# normalize tnc2 data by taz AREA\n",
    "\n",
    "jobpop_plot['AREA1']=jobpop_plot['geometry'].area\n",
    "jobpop_plot['jobpop_AREA']=jobpop_plot['jobpop2050']/jobpop_plot['AREA1']\n",
    "jobpop_plot['WtFac_AREA1']=jobpop_plot['WeightFac']/jobpop_plot['AREA1']"
   ]
  },
  {
   "cell_type": "code",
   "execution_count": 45,
   "metadata": {},
   "outputs": [
    {
     "data": {
      "text/html": [
       "<div>\n",
       "<style scoped>\n",
       "    .dataframe tbody tr th:only-of-type {\n",
       "        vertical-align: middle;\n",
       "    }\n",
       "\n",
       "    .dataframe tbody tr th {\n",
       "        vertical-align: top;\n",
       "    }\n",
       "\n",
       "    .dataframe thead th {\n",
       "        text-align: right;\n",
       "    }\n",
       "</style>\n",
       "<table border=\"1\" class=\"dataframe\">\n",
       "  <thead>\n",
       "    <tr style=\"text-align: right;\">\n",
       "      <th></th>\n",
       "      <th>TAZ</th>\n",
       "      <th>geometry</th>\n",
       "      <th>taz</th>\n",
       "      <th>jobpop2050</th>\n",
       "      <th>WeightFac</th>\n",
       "      <th>AREA1</th>\n",
       "      <th>jobpop_AREA</th>\n",
       "      <th>WtFac_AREA1</th>\n",
       "    </tr>\n",
       "  </thead>\n",
       "  <tbody>\n",
       "    <tr>\n",
       "      <th>0</th>\n",
       "      <td>1</td>\n",
       "      <td>POLYGON ((6007378.500054573 2086055.37391938, ...</td>\n",
       "      <td>1</td>\n",
       "      <td>1125</td>\n",
       "      <td>0.0</td>\n",
       "      <td>9.310735e+05</td>\n",
       "      <td>0.001208</td>\n",
       "      <td>0.000000e+00</td>\n",
       "    </tr>\n",
       "    <tr>\n",
       "      <th>1</th>\n",
       "      <td>2</td>\n",
       "      <td>POLYGON ((5992137.499592379 2086335.12355164, ...</td>\n",
       "      <td>2</td>\n",
       "      <td>1729</td>\n",
       "      <td>0.0</td>\n",
       "      <td>1.825218e+06</td>\n",
       "      <td>0.000947</td>\n",
       "      <td>0.000000e+00</td>\n",
       "    </tr>\n",
       "    <tr>\n",
       "      <th>2</th>\n",
       "      <td>3</td>\n",
       "      <td>POLYGON ((6004983.499220342 2086750.499936027,...</td>\n",
       "      <td>3</td>\n",
       "      <td>1056</td>\n",
       "      <td>-1.0</td>\n",
       "      <td>1.360855e+06</td>\n",
       "      <td>0.000776</td>\n",
       "      <td>-7.348322e-07</td>\n",
       "    </tr>\n",
       "    <tr>\n",
       "      <th>3</th>\n",
       "      <td>4</td>\n",
       "      <td>POLYGON ((5994473.501130554 2087145.000032395,...</td>\n",
       "      <td>4</td>\n",
       "      <td>1912</td>\n",
       "      <td>2.0</td>\n",
       "      <td>1.596024e+06</td>\n",
       "      <td>0.001198</td>\n",
       "      <td>1.253114e-06</td>\n",
       "    </tr>\n",
       "    <tr>\n",
       "      <th>4</th>\n",
       "      <td>5</td>\n",
       "      <td>POLYGON ((6006265.000917536 2086079.750239403,...</td>\n",
       "      <td>5</td>\n",
       "      <td>1487</td>\n",
       "      <td>0.0</td>\n",
       "      <td>1.064261e+06</td>\n",
       "      <td>0.001397</td>\n",
       "      <td>0.000000e+00</td>\n",
       "    </tr>\n",
       "  </tbody>\n",
       "</table>\n",
       "</div>"
      ],
      "text/plain": [
       "   TAZ                                           geometry  taz  jobpop2050  \\\n",
       "0    1  POLYGON ((6007378.500054573 2086055.37391938, ...    1        1125   \n",
       "1    2  POLYGON ((5992137.499592379 2086335.12355164, ...    2        1729   \n",
       "2    3  POLYGON ((6004983.499220342 2086750.499936027,...    3        1056   \n",
       "3    4  POLYGON ((5994473.501130554 2087145.000032395,...    4        1912   \n",
       "4    5  POLYGON ((6006265.000917536 2086079.750239403,...    5        1487   \n",
       "\n",
       "   WeightFac         AREA1  jobpop_AREA   WtFac_AREA1  \n",
       "0        0.0  9.310735e+05     0.001208  0.000000e+00  \n",
       "1        0.0  1.825218e+06     0.000947  0.000000e+00  \n",
       "2       -1.0  1.360855e+06     0.000776 -7.348322e-07  \n",
       "3        2.0  1.596024e+06     0.001198  1.253114e-06  \n",
       "4        0.0  1.064261e+06     0.001397  0.000000e+00  "
      ]
     },
     "execution_count": 45,
     "metadata": {},
     "output_type": "execute_result"
    }
   ],
   "source": [
    "jobpop_plot.head()"
   ]
  },
  {
   "cell_type": "code",
   "execution_count": 46,
   "metadata": {},
   "outputs": [
    {
     "data": {
      "text/plain": [
       "<matplotlib.axes._subplots.AxesSubplot at 0x7fdb7cdd1f60>"
      ]
     },
     "execution_count": 46,
     "metadata": {},
     "output_type": "execute_result"
    },
    {
     "data": {
      "image/png": "[encoded data removed]",
      "text/plain": [
       "<Figure size 1080x1080 with 1 Axes>"
      ]
     },
     "metadata": {
      "needs_background": "light"
     },
     "output_type": "display_data"
    }
   ],
   "source": [
    "# Plot TNC Data on MAP\n",
    "\n",
    "jobpop_plot.plot(column='jobpop2050',figsize=(15, 15),cmap='Reds',legend=False)"
   ]
  },
  {
   "cell_type": "code",
   "execution_count": 48,
   "metadata": {},
   "outputs": [
    {
     "data": {
      "text/plain": [
       "<matplotlib.axes._subplots.AxesSubplot at 0x7fdb7aad6b70>"
      ]
     },
     "execution_count": 48,
     "metadata": {},
     "output_type": "execute_result"
    },
    {
     "data": {
      "image/png": "[encoded data removed]",
      "text/plain": [
       "<Figure size 1080x1080 with 1 Axes>"
      ]
     },
     "metadata": {
      "needs_background": "light"
     },
     "output_type": "display_data"
    }
   ],
   "source": [
    "# Plot TNC Data WEIGHT FACTOR on MAP\n",
    "\n",
    "jobpop_plot.plot(column='WtFac_AREA1',figsize=(15, 15),cmap='Reds',legend=False)"
   ]
  },
  {
   "cell_type": "markdown",
   "metadata": {},
   "source": [
    "## Plotting TNC Data Results on SF Map\n"
   ]
  },
  {
   "cell_type": "code",
   "execution_count": 41,
   "metadata": {
    "scrolled": false
   },
   "outputs": [
    {
     "data": {
      "text/html": [
       "<div>\n",
       "<style scoped>\n",
       "    .dataframe tbody tr th:only-of-type {\n",
       "        vertical-align: middle;\n",
       "    }\n",
       "\n",
       "    .dataframe tbody tr th {\n",
       "        vertical-align: top;\n",
       "    }\n",
       "\n",
       "    .dataframe thead th {\n",
       "        text-align: right;\n",
       "    }\n",
       "</style>\n",
       "<table border=\"1\" class=\"dataframe\">\n",
       "  <thead>\n",
       "    <tr style=\"text-align: right;\">\n",
       "      <th></th>\n",
       "      <th>TAZ</th>\n",
       "      <th>geometry</th>\n",
       "      <th>taz</th>\n",
       "      <th>day_of_week</th>\n",
       "      <th>hour</th>\n",
       "      <th>pickups</th>\n",
       "      <th>dropoffs</th>\n",
       "      <th>WeightFac</th>\n",
       "      <th>pick_drop</th>\n",
       "    </tr>\n",
       "  </thead>\n",
       "  <tbody>\n",
       "    <tr>\n",
       "      <th>0</th>\n",
       "      <td>1</td>\n",
       "      <td>POLYGON ((6007378.500054573 2086055.37391938, ...</td>\n",
       "      <td>1</td>\n",
       "      <td>3.0</td>\n",
       "      <td>14.5</td>\n",
       "      <td>0.674702</td>\n",
       "      <td>0.611012</td>\n",
       "      <td>-1.0</td>\n",
       "      <td>0.642857</td>\n",
       "    </tr>\n",
       "    <tr>\n",
       "      <th>1</th>\n",
       "      <td>2</td>\n",
       "      <td>POLYGON ((5992137.499592379 2086335.12355164, ...</td>\n",
       "      <td>2</td>\n",
       "      <td>3.0</td>\n",
       "      <td>14.5</td>\n",
       "      <td>1.423810</td>\n",
       "      <td>1.621131</td>\n",
       "      <td>-1.0</td>\n",
       "      <td>1.522470</td>\n",
       "    </tr>\n",
       "    <tr>\n",
       "      <th>2</th>\n",
       "      <td>3</td>\n",
       "      <td>POLYGON ((6004983.499220342 2086750.499936027,...</td>\n",
       "      <td>3</td>\n",
       "      <td>3.0</td>\n",
       "      <td>14.5</td>\n",
       "      <td>0.836905</td>\n",
       "      <td>0.896429</td>\n",
       "      <td>-1.0</td>\n",
       "      <td>0.866667</td>\n",
       "    </tr>\n",
       "    <tr>\n",
       "      <th>3</th>\n",
       "      <td>4</td>\n",
       "      <td>POLYGON ((5994473.501130554 2087145.000032395,...</td>\n",
       "      <td>4</td>\n",
       "      <td>3.0</td>\n",
       "      <td>14.5</td>\n",
       "      <td>3.828869</td>\n",
       "      <td>4.127976</td>\n",
       "      <td>0.0</td>\n",
       "      <td>3.978423</td>\n",
       "    </tr>\n",
       "    <tr>\n",
       "      <th>4</th>\n",
       "      <td>5</td>\n",
       "      <td>POLYGON ((6006265.000917536 2086079.750239403,...</td>\n",
       "      <td>5</td>\n",
       "      <td>3.0</td>\n",
       "      <td>14.5</td>\n",
       "      <td>0.661905</td>\n",
       "      <td>0.522321</td>\n",
       "      <td>-1.0</td>\n",
       "      <td>0.592113</td>\n",
       "    </tr>\n",
       "  </tbody>\n",
       "</table>\n",
       "</div>"
      ],
      "text/plain": [
       "   TAZ                                           geometry  taz  day_of_week  \\\n",
       "0    1  POLYGON ((6007378.500054573 2086055.37391938, ...    1          3.0   \n",
       "1    2  POLYGON ((5992137.499592379 2086335.12355164, ...    2          3.0   \n",
       "2    3  POLYGON ((6004983.499220342 2086750.499936027,...    3          3.0   \n",
       "3    4  POLYGON ((5994473.501130554 2087145.000032395,...    4          3.0   \n",
       "4    5  POLYGON ((6006265.000917536 2086079.750239403,...    5          3.0   \n",
       "\n",
       "   hour   pickups  dropoffs  WeightFac  pick_drop  \n",
       "0  14.5  0.674702  0.611012       -1.0   0.642857  \n",
       "1  14.5  1.423810  1.621131       -1.0   1.522470  \n",
       "2  14.5  0.836905  0.896429       -1.0   0.866667  \n",
       "3  14.5  3.828869  4.127976        0.0   3.978423  \n",
       "4  14.5  0.661905  0.522321       -1.0   0.592113  "
      ]
     },
     "execution_count": 41,
     "metadata": {},
     "output_type": "execute_result"
    }
   ],
   "source": [
    "tnc_plot = taz.copy(deep=True)\n",
    "tnc_plot = tnc_plot.merge(tnc2, on='taz')\n",
    "tnc_plot.head()"
   ]
  },
  {
   "cell_type": "code",
   "execution_count": 49,
   "metadata": {},
   "outputs": [],
   "source": [
    "# normalize tnc2 data by taz AREA\n",
    "\n",
    "tnc_plot['AREA2']=tnc_plot['geometry'].area\n",
    "tnc_plot['tnc_AREA']=tnc_plot['pick_drop']/tnc_plot['AREA2']\n",
    "tnc_plot['WtFac_AREA2']=tnc_plot['pick_drop']/tnc_plot['AREA2']"
   ]
  },
  {
   "cell_type": "code",
   "execution_count": 50,
   "metadata": {},
   "outputs": [
    {
     "data": {
      "text/html": [
       "<div>\n",
       "<style scoped>\n",
       "    .dataframe tbody tr th:only-of-type {\n",
       "        vertical-align: middle;\n",
       "    }\n",
       "\n",
       "    .dataframe tbody tr th {\n",
       "        vertical-align: top;\n",
       "    }\n",
       "\n",
       "    .dataframe thead th {\n",
       "        text-align: right;\n",
       "    }\n",
       "</style>\n",
       "<table border=\"1\" class=\"dataframe\">\n",
       "  <thead>\n",
       "    <tr style=\"text-align: right;\">\n",
       "      <th></th>\n",
       "      <th>TAZ</th>\n",
       "      <th>geometry</th>\n",
       "      <th>taz</th>\n",
       "      <th>day_of_week</th>\n",
       "      <th>hour</th>\n",
       "      <th>pickups</th>\n",
       "      <th>dropoffs</th>\n",
       "      <th>WeightFac</th>\n",
       "      <th>pick_drop</th>\n",
       "      <th>AREA2</th>\n",
       "      <th>tnc_AREA</th>\n",
       "      <th>WtFac_AREA2</th>\n",
       "    </tr>\n",
       "  </thead>\n",
       "  <tbody>\n",
       "    <tr>\n",
       "      <th>0</th>\n",
       "      <td>1</td>\n",
       "      <td>POLYGON ((6007378.500054573 2086055.37391938, ...</td>\n",
       "      <td>1</td>\n",
       "      <td>3.0</td>\n",
       "      <td>14.5</td>\n",
       "      <td>0.674702</td>\n",
       "      <td>0.611012</td>\n",
       "      <td>-1.0</td>\n",
       "      <td>0.642857</td>\n",
       "      <td>9.310735e+05</td>\n",
       "      <td>6.904473e-07</td>\n",
       "      <td>6.904473e-07</td>\n",
       "    </tr>\n",
       "    <tr>\n",
       "      <th>1</th>\n",
       "      <td>2</td>\n",
       "      <td>POLYGON ((5992137.499592379 2086335.12355164, ...</td>\n",
       "      <td>2</td>\n",
       "      <td>3.0</td>\n",
       "      <td>14.5</td>\n",
       "      <td>1.423810</td>\n",
       "      <td>1.621131</td>\n",
       "      <td>-1.0</td>\n",
       "      <td>1.522470</td>\n",
       "      <td>1.825218e+06</td>\n",
       "      <td>8.341307e-07</td>\n",
       "      <td>8.341307e-07</td>\n",
       "    </tr>\n",
       "    <tr>\n",
       "      <th>2</th>\n",
       "      <td>3</td>\n",
       "      <td>POLYGON ((6004983.499220342 2086750.499936027,...</td>\n",
       "      <td>3</td>\n",
       "      <td>3.0</td>\n",
       "      <td>14.5</td>\n",
       "      <td>0.836905</td>\n",
       "      <td>0.896429</td>\n",
       "      <td>-1.0</td>\n",
       "      <td>0.866667</td>\n",
       "      <td>1.360855e+06</td>\n",
       "      <td>6.368546e-07</td>\n",
       "      <td>6.368546e-07</td>\n",
       "    </tr>\n",
       "    <tr>\n",
       "      <th>3</th>\n",
       "      <td>4</td>\n",
       "      <td>POLYGON ((5994473.501130554 2087145.000032395,...</td>\n",
       "      <td>4</td>\n",
       "      <td>3.0</td>\n",
       "      <td>14.5</td>\n",
       "      <td>3.828869</td>\n",
       "      <td>4.127976</td>\n",
       "      <td>0.0</td>\n",
       "      <td>3.978423</td>\n",
       "      <td>1.596024e+06</td>\n",
       "      <td>2.492709e-06</td>\n",
       "      <td>2.492709e-06</td>\n",
       "    </tr>\n",
       "    <tr>\n",
       "      <th>4</th>\n",
       "      <td>5</td>\n",
       "      <td>POLYGON ((6006265.000917536 2086079.750239403,...</td>\n",
       "      <td>5</td>\n",
       "      <td>3.0</td>\n",
       "      <td>14.5</td>\n",
       "      <td>0.661905</td>\n",
       "      <td>0.522321</td>\n",
       "      <td>-1.0</td>\n",
       "      <td>0.592113</td>\n",
       "      <td>1.064261e+06</td>\n",
       "      <td>5.563609e-07</td>\n",
       "      <td>5.563609e-07</td>\n",
       "    </tr>\n",
       "  </tbody>\n",
       "</table>\n",
       "</div>"
      ],
      "text/plain": [
       "   TAZ                                           geometry  taz  day_of_week  \\\n",
       "0    1  POLYGON ((6007378.500054573 2086055.37391938, ...    1          3.0   \n",
       "1    2  POLYGON ((5992137.499592379 2086335.12355164, ...    2          3.0   \n",
       "2    3  POLYGON ((6004983.499220342 2086750.499936027,...    3          3.0   \n",
       "3    4  POLYGON ((5994473.501130554 2087145.000032395,...    4          3.0   \n",
       "4    5  POLYGON ((6006265.000917536 2086079.750239403,...    5          3.0   \n",
       "\n",
       "   hour   pickups  dropoffs  WeightFac  pick_drop         AREA2      tnc_AREA  \\\n",
       "0  14.5  0.674702  0.611012       -1.0   0.642857  9.310735e+05  6.904473e-07   \n",
       "1  14.5  1.423810  1.621131       -1.0   1.522470  1.825218e+06  8.341307e-07   \n",
       "2  14.5  0.836905  0.896429       -1.0   0.866667  1.360855e+06  6.368546e-07   \n",
       "3  14.5  3.828869  4.127976        0.0   3.978423  1.596024e+06  2.492709e-06   \n",
       "4  14.5  0.661905  0.522321       -1.0   0.592113  1.064261e+06  5.563609e-07   \n",
       "\n",
       "    WtFac_AREA2  \n",
       "0  6.904473e-07  \n",
       "1  8.341307e-07  \n",
       "2  6.368546e-07  \n",
       "3  2.492709e-06  \n",
       "4  5.563609e-07  "
      ]
     },
     "execution_count": 50,
     "metadata": {},
     "output_type": "execute_result"
    }
   ],
   "source": [
    "tnc_plot.head()"
   ]
  },
  {
   "cell_type": "code",
   "execution_count": 51,
   "metadata": {},
   "outputs": [
    {
     "data": {
      "text/plain": [
       "<matplotlib.axes._subplots.AxesSubplot at 0x7fdb7aaf4748>"
      ]
     },
     "execution_count": 51,
     "metadata": {},
     "output_type": "execute_result"
    },
    {
     "data": {
      "image/png": "[encoded data removed]",
      "text/plain": [
       "<Figure size 1080x1080 with 1 Axes>"
      ]
     },
     "metadata": {
      "needs_background": "light"
     },
     "output_type": "display_data"
    }
   ],
   "source": [
    "# Plot TNC Data on MAP\n",
    "\n",
    "tnc_plot.plot(column='pick_drop',figsize=(15, 15),cmap='Reds',legend=False)"
   ]
  },
  {
   "cell_type": "code",
   "execution_count": 53,
   "metadata": {},
   "outputs": [
    {
     "data": {
      "text/plain": [
       "<matplotlib.axes._subplots.AxesSubplot at 0x7fdb7eb6f9b0>"
      ]
     },
     "execution_count": 53,
     "metadata": {},
     "output_type": "execute_result"
    },
    {
     "data": {
      "image/png": "[encoded data removed]",
      "text/plain": [
       "<Figure size 1080x1080 with 1 Axes>"
      ]
     },
     "metadata": {
      "needs_background": "light"
     },
     "output_type": "display_data"
    }
   ],
   "source": [
    "# Plot TNC Data WEIGHT FACTOR on MAP\n",
    "\n",
    "tnc_plot.plot(column='WtFac_AREA2',figsize=(15, 15),cmap='Reds',legend=False)"
   ]
  },
  {
   "cell_type": "code",
   "execution_count": null,
   "metadata": {},
   "outputs": [],
   "source": []
  }
 ],
 "metadata": {
  "kernelspec": {
   "display_name": "Python 3",
   "language": "python",
   "name": "python3"
  },
  "language_info": {
   "codemirror_mode": {
    "name": "ipython",
    "version": 3
   },
   "file_extension": ".py",
   "mimetype": "text/x-python",
   "name": "python",
   "nbconvert_exporter": "python",
   "pygments_lexer": "ipython3",
   "version": "3.6.9"
  }
 },
 "nbformat": 4,
 "nbformat_minor": 4
}
