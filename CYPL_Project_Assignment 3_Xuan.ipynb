{
 "cells": [
  {
   "cell_type": "markdown",
   "metadata": {},
   "source": [
    "# Planning for Shared Autonomous Vehicle in San Francisco \n",
    "This project studys where is the most suitable polit area for future shared autonomous vehicles system to operate in the city of San Francisoc. It studies current transportation data which has realted characteristic to SAV system, like Uber/Lyft hotspot, and other critical data for transportation planning. "
   ]
  },
  {
   "cell_type": "markdown",
   "metadata": {},
   "source": [
    "## Transit Crowding\n",
    " "
   ]
  },
  {
   "cell_type": "code",
   "execution_count": 1,
   "metadata": {},
   "outputs": [],
   "source": [
    "import requests"
   ]
  },
  {
   "cell_type": "code",
   "execution_count": 2,
   "metadata": {},
   "outputs": [],
   "source": [
    "import geopandas as gpd"
   ]
  },
  {
   "cell_type": "code",
   "execution_count": 3,
   "metadata": {},
   "outputs": [],
   "source": [
    "import pandas as pd"
   ]
  },
  {
   "cell_type": "code",
   "execution_count": 4,
   "metadata": {},
   "outputs": [],
   "source": [
    "# Download San Francisco transit crowding level data from SFTCA\n",
    "\n",
    "url = 'https://connectsf-transitcrowding.sfcta.org/assets/connectsf/trncrowding.zip'\n",
    "\n",
    "with open('trncrowding.zip', 'wb') as f:\n",
    "    r = requests.get(url)\n",
    "    f.write(r.content)"
   ]
  },
  {
   "cell_type": "code",
   "execution_count": 5,
   "metadata": {},
   "outputs": [],
   "source": [
    "# Load the San Francisco transit crowding data as a GeoDataFrame\n",
    "\n",
    "trncrowding = gpd.read_file('zip://trncrowding.zip')  "
   ]
  },
  {
   "cell_type": "code",
   "execution_count": 6,
   "metadata": {},
   "outputs": [],
   "source": [
    "# The data for samle road segement is divided into AM and EV scenarios. This study only takes the AM data to simplify it. \n",
    "trn_am= trncrowding[(trncrowding.TP=='AM') & (trncrowding.LOAD!=0.000)]"
   ]
  },
  {
   "cell_type": "code",
   "execution_count": 7,
   "metadata": {
    "scrolled": true
   },
   "outputs": [
    {
     "data": {
      "text/html": [
       "<div>\n",
       "<style scoped>\n",
       "    .dataframe tbody tr th:only-of-type {\n",
       "        vertical-align: middle;\n",
       "    }\n",
       "\n",
       "    .dataframe tbody tr th {\n",
       "        vertical-align: top;\n",
       "    }\n",
       "\n",
       "    .dataframe thead th {\n",
       "        text-align: right;\n",
       "    }\n",
       "</style>\n",
       "<table border=\"1\" class=\"dataframe\">\n",
       "  <thead>\n",
       "    <tr style=\"text-align: right;\">\n",
       "      <th></th>\n",
       "      <th>A</th>\n",
       "      <th>B</th>\n",
       "      <th>MODE</th>\n",
       "      <th>NAME</th>\n",
       "      <th>TP</th>\n",
       "      <th>LOAD</th>\n",
       "      <th>geometry</th>\n",
       "    </tr>\n",
       "  </thead>\n",
       "  <tbody>\n",
       "    <tr>\n",
       "      <th>0</th>\n",
       "      <td>4000</td>\n",
       "      <td>4008</td>\n",
       "      <td>22</td>\n",
       "      <td>40_CBW</td>\n",
       "      <td>AM</td>\n",
       "      <td>0.277</td>\n",
       "      <td>LINESTRING (6065001.695 2130313.85188, 6066666...</td>\n",
       "    </tr>\n",
       "    <tr>\n",
       "      <th>2</th>\n",
       "      <td>103456</td>\n",
       "      <td>4008</td>\n",
       "      <td>22</td>\n",
       "      <td>40_CBW</td>\n",
       "      <td>AM</td>\n",
       "      <td>0.129</td>\n",
       "      <td>LINESTRING (6064367.73359 2133807.4221, 606666...</td>\n",
       "    </tr>\n",
       "    <tr>\n",
       "      <th>3</th>\n",
       "      <td>4000</td>\n",
       "      <td>13080</td>\n",
       "      <td>22</td>\n",
       "      <td>40_CBW</td>\n",
       "      <td>AM</td>\n",
       "      <td>0.129</td>\n",
       "      <td>LINESTRING (6065001.695 2130313.85188, 6063748...</td>\n",
       "    </tr>\n",
       "    <tr>\n",
       "      <th>5</th>\n",
       "      <td>4002</td>\n",
       "      <td>4026</td>\n",
       "      <td>22</td>\n",
       "      <td>40_VW</td>\n",
       "      <td>AM</td>\n",
       "      <td>0.137</td>\n",
       "      <td>LINESTRING (6068167.11572 2127707.98838, 60690...</td>\n",
       "    </tr>\n",
       "    <tr>\n",
       "      <th>6</th>\n",
       "      <td>103999</td>\n",
       "      <td>4026</td>\n",
       "      <td>18</td>\n",
       "      <td>40_18E</td>\n",
       "      <td>AM</td>\n",
       "      <td>0.005</td>\n",
       "      <td>LINESTRING (6068042.74484 2125565.52494, 60690...</td>\n",
       "    </tr>\n",
       "  </tbody>\n",
       "</table>\n",
       "</div>"
      ],
      "text/plain": [
       "        A      B  MODE    NAME  TP   LOAD  \\\n",
       "0    4000   4008    22  40_CBW  AM  0.277   \n",
       "2  103456   4008    22  40_CBW  AM  0.129   \n",
       "3    4000  13080    22  40_CBW  AM  0.129   \n",
       "5    4002   4026    22   40_VW  AM  0.137   \n",
       "6  103999   4026    18  40_18E  AM  0.005   \n",
       "\n",
       "                                            geometry  \n",
       "0  LINESTRING (6065001.695 2130313.85188, 6066666...  \n",
       "2  LINESTRING (6064367.73359 2133807.4221, 606666...  \n",
       "3  LINESTRING (6065001.695 2130313.85188, 6063748...  \n",
       "5  LINESTRING (6068167.11572 2127707.98838, 60690...  \n",
       "6  LINESTRING (6068042.74484 2125565.52494, 60690...  "
      ]
     },
     "execution_count": 7,
     "metadata": {},
     "output_type": "execute_result"
    }
   ],
   "source": [
    "trn_am.head()"
   ]
  },
  {
   "cell_type": "code",
   "execution_count": 8,
   "metadata": {},
   "outputs": [],
   "source": [
    "trn_load = trn_am[['A','B','LOAD','geometry']].copy()"
   ]
  },
  {
   "cell_type": "markdown",
   "metadata": {},
   "source": [
    "## Transit Analysis Zone\n",
    "The purpose of spatialjoin these two data is to the corwding level of each TAZ. "
   ]
  },
  {
   "cell_type": "code",
   "execution_count": 9,
   "metadata": {},
   "outputs": [],
   "source": [
    "# download TAZ data from SFTCA\n",
    "\n",
    "url = 'https://www.sfcta.org/sites/default/files/2019-06/TAZ981.zip'\n",
    "\n",
    "with open('TAZ981.zip', 'wb') as f:\n",
    "    r = requests.get(url)\n",
    "    f.write(r.content)"
   ]
  },
  {
   "cell_type": "code",
   "execution_count": 10,
   "metadata": {},
   "outputs": [],
   "source": [
    "taz = gpd.read_file('zip://TAZ981.zip')"
   ]
  },
  {
   "cell_type": "code",
   "execution_count": 11,
   "metadata": {
    "scrolled": false
   },
   "outputs": [
    {
     "data": {
      "text/html": [
       "<div>\n",
       "<style scoped>\n",
       "    .dataframe tbody tr th:only-of-type {\n",
       "        vertical-align: middle;\n",
       "    }\n",
       "\n",
       "    .dataframe tbody tr th {\n",
       "        vertical-align: top;\n",
       "    }\n",
       "\n",
       "    .dataframe thead th {\n",
       "        text-align: right;\n",
       "    }\n",
       "</style>\n",
       "<table border=\"1\" class=\"dataframe\">\n",
       "  <thead>\n",
       "    <tr style=\"text-align: right;\">\n",
       "      <th></th>\n",
       "      <th>TAZ</th>\n",
       "      <th>geometry</th>\n",
       "    </tr>\n",
       "  </thead>\n",
       "  <tbody>\n",
       "    <tr>\n",
       "      <th>0</th>\n",
       "      <td>1</td>\n",
       "      <td>POLYGON ((6007378.500054573 2086055.37391938, ...</td>\n",
       "    </tr>\n",
       "    <tr>\n",
       "      <th>1</th>\n",
       "      <td>2</td>\n",
       "      <td>POLYGON ((5992137.499592379 2086335.12355164, ...</td>\n",
       "    </tr>\n",
       "    <tr>\n",
       "      <th>2</th>\n",
       "      <td>3</td>\n",
       "      <td>POLYGON ((6004983.499220342 2086750.499936027,...</td>\n",
       "    </tr>\n",
       "    <tr>\n",
       "      <th>3</th>\n",
       "      <td>4</td>\n",
       "      <td>POLYGON ((5994473.501130554 2087145.000032395,...</td>\n",
       "    </tr>\n",
       "    <tr>\n",
       "      <th>4</th>\n",
       "      <td>5</td>\n",
       "      <td>POLYGON ((6006265.000917536 2086079.750239403,...</td>\n",
       "    </tr>\n",
       "  </tbody>\n",
       "</table>\n",
       "</div>"
      ],
      "text/plain": [
       "   TAZ                                           geometry\n",
       "0    1  POLYGON ((6007378.500054573 2086055.37391938, ...\n",
       "1    2  POLYGON ((5992137.499592379 2086335.12355164, ...\n",
       "2    3  POLYGON ((6004983.499220342 2086750.499936027,...\n",
       "3    4  POLYGON ((5994473.501130554 2087145.000032395,...\n",
       "4    5  POLYGON ((6006265.000917536 2086079.750239403,..."
      ]
     },
     "execution_count": 11,
     "metadata": {},
     "output_type": "execute_result"
    }
   ],
   "source": [
    "taz.head()"
   ]
  },
  {
   "cell_type": "markdown",
   "metadata": {},
   "source": [
    "## Spatial Join Transit Crowding and TAZ"
   ]
  },
  {
   "cell_type": "code",
   "execution_count": 12,
   "metadata": {},
   "outputs": [],
   "source": [
    "#Spatial join transit crowding level data with TAZ \n",
    "\n",
    "merged = gpd.sjoin(taz, trn_load, how='inner', op='intersects')"
   ]
  },
  {
   "cell_type": "code",
   "execution_count": 13,
   "metadata": {
    "scrolled": true
   },
   "outputs": [
    {
     "data": {
      "text/html": [
       "<div>\n",
       "<style scoped>\n",
       "    .dataframe tbody tr th:only-of-type {\n",
       "        vertical-align: middle;\n",
       "    }\n",
       "\n",
       "    .dataframe tbody tr th {\n",
       "        vertical-align: top;\n",
       "    }\n",
       "\n",
       "    .dataframe thead th {\n",
       "        text-align: right;\n",
       "    }\n",
       "</style>\n",
       "<table border=\"1\" class=\"dataframe\">\n",
       "  <thead>\n",
       "    <tr style=\"text-align: right;\">\n",
       "      <th></th>\n",
       "      <th>TAZ</th>\n",
       "      <th>geometry</th>\n",
       "      <th>index_right</th>\n",
       "      <th>A</th>\n",
       "      <th>B</th>\n",
       "      <th>LOAD</th>\n",
       "    </tr>\n",
       "  </thead>\n",
       "  <tbody>\n",
       "    <tr>\n",
       "      <th>0</th>\n",
       "      <td>1</td>\n",
       "      <td>POLYGON ((6007378.500054573 2086055.37391938, ...</td>\n",
       "      <td>13296</td>\n",
       "      <td>20377</td>\n",
       "      <td>20370</td>\n",
       "      <td>0.019</td>\n",
       "    </tr>\n",
       "    <tr>\n",
       "      <th>16</th>\n",
       "      <td>17</td>\n",
       "      <td>POLYGON ((6007470.001622658 2087359.624800595,...</td>\n",
       "      <td>13296</td>\n",
       "      <td>20377</td>\n",
       "      <td>20370</td>\n",
       "      <td>0.019</td>\n",
       "    </tr>\n",
       "    <tr>\n",
       "      <th>0</th>\n",
       "      <td>1</td>\n",
       "      <td>POLYGON ((6007378.500054573 2086055.37391938, ...</td>\n",
       "      <td>13286</td>\n",
       "      <td>33605</td>\n",
       "      <td>20375</td>\n",
       "      <td>0.110</td>\n",
       "    </tr>\n",
       "    <tr>\n",
       "      <th>5</th>\n",
       "      <td>6</td>\n",
       "      <td>POLYGON ((6008496.000471613 2086032.624223359,...</td>\n",
       "      <td>13286</td>\n",
       "      <td>33605</td>\n",
       "      <td>20375</td>\n",
       "      <td>0.110</td>\n",
       "    </tr>\n",
       "    <tr>\n",
       "      <th>0</th>\n",
       "      <td>1</td>\n",
       "      <td>POLYGON ((6007378.500054573 2086055.37391938, ...</td>\n",
       "      <td>13294</td>\n",
       "      <td>20375</td>\n",
       "      <td>33605</td>\n",
       "      <td>0.093</td>\n",
       "    </tr>\n",
       "  </tbody>\n",
       "</table>\n",
       "</div>"
      ],
      "text/plain": [
       "    TAZ                                           geometry  index_right  \\\n",
       "0     1  POLYGON ((6007378.500054573 2086055.37391938, ...        13296   \n",
       "16   17  POLYGON ((6007470.001622658 2087359.624800595,...        13296   \n",
       "0     1  POLYGON ((6007378.500054573 2086055.37391938, ...        13286   \n",
       "5     6  POLYGON ((6008496.000471613 2086032.624223359,...        13286   \n",
       "0     1  POLYGON ((6007378.500054573 2086055.37391938, ...        13294   \n",
       "\n",
       "        A      B   LOAD  \n",
       "0   20377  20370  0.019  \n",
       "16  20377  20370  0.019  \n",
       "0   33605  20375  0.110  \n",
       "5   33605  20375  0.110  \n",
       "0   20375  33605  0.093  "
      ]
     },
     "execution_count": 13,
     "metadata": {},
     "output_type": "execute_result"
    }
   ],
   "source": [
    "merged.head()"
   ]
  },
  {
   "cell_type": "code",
   "execution_count": 46,
   "metadata": {},
   "outputs": [
    {
     "ename": "AttributeError",
     "evalue": "'SeriesGroupBy' object has no attribute 'avg'",
     "output_type": "error",
     "traceback": [
      "\u001b[0;31m---------------------------------------------------------------------------\u001b[0m",
      "\u001b[0;31mAttributeError\u001b[0m                            Traceback (most recent call last)",
      "\u001b[0;32m<ipython-input-46-b010a95a0bdb>\u001b[0m in \u001b[0;36m<module>\u001b[0;34m\u001b[0m\n\u001b[1;32m      3\u001b[0m \u001b[0;34m\u001b[0m\u001b[0m\n\u001b[1;32m      4\u001b[0m \u001b[0mmerged_grp\u001b[0m \u001b[0;34m=\u001b[0m \u001b[0mmerged\u001b[0m\u001b[0;34m.\u001b[0m\u001b[0mgroupby\u001b[0m\u001b[0;34m(\u001b[0m\u001b[0;34m[\u001b[0m\u001b[0;34m'TAZ'\u001b[0m\u001b[0;34m]\u001b[0m\u001b[0;34m)\u001b[0m\u001b[0;34m\u001b[0m\u001b[0;34m\u001b[0m\u001b[0m\n\u001b[0;32m----> 5\u001b[0;31m \u001b[0msum_lod\u001b[0m \u001b[0;34m=\u001b[0m \u001b[0mmerged_grp\u001b[0m\u001b[0;34m[\u001b[0m\u001b[0;34m'LOAD'\u001b[0m\u001b[0;34m]\u001b[0m\u001b[0;34m.\u001b[0m\u001b[0mavg\u001b[0m\u001b[0;34m(\u001b[0m\u001b[0;34m)\u001b[0m\u001b[0;34m\u001b[0m\u001b[0;34m\u001b[0m\u001b[0m\n\u001b[0m\u001b[1;32m      6\u001b[0m \u001b[0msum_lod\u001b[0m \u001b[0;34m=\u001b[0m \u001b[0mpd\u001b[0m\u001b[0;34m.\u001b[0m\u001b[0mDataFrame\u001b[0m\u001b[0;34m(\u001b[0m\u001b[0msum_lod\u001b[0m\u001b[0;34m)\u001b[0m\u001b[0;34m\u001b[0m\u001b[0;34m\u001b[0m\u001b[0m\n",
      "\u001b[0;32m/srv/app/venv/lib/python3.6/site-packages/pandas/core/groupby/groupby.py\u001b[0m in \u001b[0;36m__getattr__\u001b[0;34m(self, attr)\u001b[0m\n\u001b[1;32m    763\u001b[0m \u001b[0;34m\u001b[0m\u001b[0m\n\u001b[1;32m    764\u001b[0m         raise AttributeError(\"%r object has no attribute %r\" %\n\u001b[0;32m--> 765\u001b[0;31m                              (type(self).__name__, attr))\n\u001b[0m\u001b[1;32m    766\u001b[0m \u001b[0;34m\u001b[0m\u001b[0m\n\u001b[1;32m    767\u001b[0m     @Substitution(klass='GroupBy',\n",
      "\u001b[0;31mAttributeError\u001b[0m: 'SeriesGroupBy' object has no attribute 'avg'"
     ]
    }
   ],
   "source": [
    "# One TAZ may have more than one transit line intersect with it. \n",
    "# Thus, data should be grouped by 'TAZ'.\n",
    "\n",
    "merged_grp = merged.groupby(['TAZ'])\n",
    "sum_lod = merged_grp['LOAD'].sum()\n",
    "sum_lod = pd.DataFrame(sum_lod)"
   ]
  },
  {
   "cell_type": "code",
   "execution_count": null,
   "metadata": {},
   "outputs": [],
   "source": [
    "# The length of merged data is close but smaller than the TAZ one. The reason for that is not every taz zone has a\n",
    "# linestring data goes across it. \n",
    "\n",
    "print(len(merged))\n",
    "print(len(taz))\n",
    "print(len(sum_lod))"
   ]
  },
  {
   "cell_type": "code",
   "execution_count": 16,
   "metadata": {
    "scrolled": true
   },
   "outputs": [
    {
     "data": {
      "text/html": [
       "<div>\n",
       "<style scoped>\n",
       "    .dataframe tbody tr th:only-of-type {\n",
       "        vertical-align: middle;\n",
       "    }\n",
       "\n",
       "    .dataframe tbody tr th {\n",
       "        vertical-align: top;\n",
       "    }\n",
       "\n",
       "    .dataframe thead th {\n",
       "        text-align: right;\n",
       "    }\n",
       "</style>\n",
       "<table border=\"1\" class=\"dataframe\">\n",
       "  <thead>\n",
       "    <tr style=\"text-align: right;\">\n",
       "      <th></th>\n",
       "      <th>TAZ</th>\n",
       "      <th>geometry</th>\n",
       "      <th>LOAD</th>\n",
       "    </tr>\n",
       "  </thead>\n",
       "  <tbody>\n",
       "    <tr>\n",
       "      <th>0</th>\n",
       "      <td>1</td>\n",
       "      <td>POLYGON ((6007378.500054573 2086055.37391938, ...</td>\n",
       "      <td>0.770</td>\n",
       "    </tr>\n",
       "    <tr>\n",
       "      <th>1</th>\n",
       "      <td>2</td>\n",
       "      <td>POLYGON ((5992137.499592379 2086335.12355164, ...</td>\n",
       "      <td>1.200</td>\n",
       "    </tr>\n",
       "    <tr>\n",
       "      <th>2</th>\n",
       "      <td>3</td>\n",
       "      <td>POLYGON ((6004983.499220342 2086750.499936027,...</td>\n",
       "      <td>4.378</td>\n",
       "    </tr>\n",
       "    <tr>\n",
       "      <th>3</th>\n",
       "      <td>4</td>\n",
       "      <td>POLYGON ((5994473.501130554 2087145.000032395,...</td>\n",
       "      <td>6.640</td>\n",
       "    </tr>\n",
       "    <tr>\n",
       "      <th>4</th>\n",
       "      <td>5</td>\n",
       "      <td>POLYGON ((6006265.000917536 2086079.750239403,...</td>\n",
       "      <td>0.055</td>\n",
       "    </tr>\n",
       "  </tbody>\n",
       "</table>\n",
       "</div>"
      ],
      "text/plain": [
       "   TAZ                                           geometry   LOAD\n",
       "0    1  POLYGON ((6007378.500054573 2086055.37391938, ...  0.770\n",
       "1    2  POLYGON ((5992137.499592379 2086335.12355164, ...  1.200\n",
       "2    3  POLYGON ((6004983.499220342 2086750.499936027,...  4.378\n",
       "3    4  POLYGON ((5994473.501130554 2087145.000032395,...  6.640\n",
       "4    5  POLYGON ((6006265.000917536 2086079.750239403,...  0.055"
      ]
     },
     "execution_count": 16,
     "metadata": {},
     "output_type": "execute_result"
    }
   ],
   "source": [
    "# Merge loading data on TAZ ID\n",
    "taz_lod = taz.copy(deep=True)\n",
    "taz_lod = taz_lod.merge(sum_lod, on='TAZ')\n",
    "taz_lod.head()"
   ]
  },
  {
   "cell_type": "markdown",
   "metadata": {},
   "source": [
    "## Plot"
   ]
  },
  {
   "cell_type": "code",
   "execution_count": 57,
   "metadata": {},
   "outputs": [],
   "source": [
    "taz_lod['AREA']=taz_lod['geometry'].area\n",
    "taz_lod['LOAD_AREA']=taz_lod['LOAD']/taz_lod['AREA']"
   ]
  },
  {
   "cell_type": "code",
   "execution_count": 58,
   "metadata": {},
   "outputs": [
    {
     "data": {
      "text/html": [
       "<div>\n",
       "<style scoped>\n",
       "    .dataframe tbody tr th:only-of-type {\n",
       "        vertical-align: middle;\n",
       "    }\n",
       "\n",
       "    .dataframe tbody tr th {\n",
       "        vertical-align: top;\n",
       "    }\n",
       "\n",
       "    .dataframe thead th {\n",
       "        text-align: right;\n",
       "    }\n",
       "</style>\n",
       "<table border=\"1\" class=\"dataframe\">\n",
       "  <thead>\n",
       "    <tr style=\"text-align: right;\">\n",
       "      <th></th>\n",
       "      <th>TAZ</th>\n",
       "      <th>geometry</th>\n",
       "      <th>LOAD</th>\n",
       "      <th>AREA</th>\n",
       "      <th>LOAD_AREA</th>\n",
       "    </tr>\n",
       "  </thead>\n",
       "  <tbody>\n",
       "    <tr>\n",
       "      <th>0</th>\n",
       "      <td>1</td>\n",
       "      <td>POLYGON ((6007378.500054573 2086055.37391938, ...</td>\n",
       "      <td>0.770</td>\n",
       "      <td>9.310735e+05</td>\n",
       "      <td>8.270024e-07</td>\n",
       "    </tr>\n",
       "    <tr>\n",
       "      <th>1</th>\n",
       "      <td>2</td>\n",
       "      <td>POLYGON ((5992137.499592379 2086335.12355164, ...</td>\n",
       "      <td>1.200</td>\n",
       "      <td>1.825218e+06</td>\n",
       "      <td>6.574558e-07</td>\n",
       "    </tr>\n",
       "    <tr>\n",
       "      <th>2</th>\n",
       "      <td>3</td>\n",
       "      <td>POLYGON ((6004983.499220342 2086750.499936027,...</td>\n",
       "      <td>4.378</td>\n",
       "      <td>1.360855e+06</td>\n",
       "      <td>3.217095e-06</td>\n",
       "    </tr>\n",
       "    <tr>\n",
       "      <th>3</th>\n",
       "      <td>4</td>\n",
       "      <td>POLYGON ((5994473.501130554 2087145.000032395,...</td>\n",
       "      <td>6.640</td>\n",
       "      <td>1.596024e+06</td>\n",
       "      <td>4.160340e-06</td>\n",
       "    </tr>\n",
       "    <tr>\n",
       "      <th>4</th>\n",
       "      <td>5</td>\n",
       "      <td>POLYGON ((6006265.000917536 2086079.750239403,...</td>\n",
       "      <td>0.055</td>\n",
       "      <td>1.064261e+06</td>\n",
       "      <td>5.167906e-08</td>\n",
       "    </tr>\n",
       "  </tbody>\n",
       "</table>\n",
       "</div>"
      ],
      "text/plain": [
       "   TAZ                                           geometry   LOAD  \\\n",
       "0    1  POLYGON ((6007378.500054573 2086055.37391938, ...  0.770   \n",
       "1    2  POLYGON ((5992137.499592379 2086335.12355164, ...  1.200   \n",
       "2    3  POLYGON ((6004983.499220342 2086750.499936027,...  4.378   \n",
       "3    4  POLYGON ((5994473.501130554 2087145.000032395,...  6.640   \n",
       "4    5  POLYGON ((6006265.000917536 2086079.750239403,...  0.055   \n",
       "\n",
       "           AREA     LOAD_AREA  \n",
       "0  9.310735e+05  8.270024e-07  \n",
       "1  1.825218e+06  6.574558e-07  \n",
       "2  1.360855e+06  3.217095e-06  \n",
       "3  1.596024e+06  4.160340e-06  \n",
       "4  1.064261e+06  5.167906e-08  "
      ]
     },
     "execution_count": 58,
     "metadata": {},
     "output_type": "execute_result"
    }
   ],
   "source": [
    "taz_lod.head()"
   ]
  },
  {
   "cell_type": "code",
   "execution_count": 67,
   "metadata": {
    "scrolled": false
   },
   "outputs": [
    {
     "data": {
      "text/plain": [
       "<matplotlib.axes._subplots.AxesSubplot at 0x7f50016b26d8>"
      ]
     },
     "execution_count": 67,
     "metadata": {},
     "output_type": "execute_result"
    },
    {
     "data": {
      "image/png": "[encoded data removed]",
      "text/plain": [
       "<Figure size 1080x1080 with 2 Axes>"
      ]
     },
     "metadata": {
      "needs_background": "light"
     },
     "output_type": "display_data"
    }
   ],
   "source": [
    "taz_lod.plot(column='LOAD_AREA',figsize=(15, 15),cmap='Reds',legend=True)"
   ]
  }
 ],
 "metadata": {
  "kernelspec": {
   "display_name": "Python 3",
   "language": "python",
   "name": "python3"
  },
  "language_info": {
   "codemirror_mode": {
    "name": "ipython",
    "version": 3
   },
   "file_extension": ".py",
   "mimetype": "text/x-python",
   "name": "python",
   "nbconvert_exporter": "python",
   "pygments_lexer": "ipython3",
   "version": "3.6.9"
  }
 },
 "nbformat": 4,
 "nbformat_minor": 4
}
