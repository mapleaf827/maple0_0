{
 "cells": [
  {
   "cell_type": "markdown",
   "metadata": {},
   "source": [
    "## Transit Crowding"
   ]
  },
  {
   "cell_type": "code",
   "execution_count": 1,
   "metadata": {},
   "outputs": [],
   "source": [
    "import requests"
   ]
  },
  {
   "cell_type": "code",
   "execution_count": 2,
   "metadata": {},
   "outputs": [],
   "source": [
    "import geopandas as gpd"
   ]
  },
  {
   "cell_type": "code",
   "execution_count": 3,
   "metadata": {},
   "outputs": [],
   "source": [
    "# download California census tracts\n",
    "\n",
    "url = 'https://connectsf-transitcrowding.sfcta.org/assets/connectsf/trncrowding.zip'\n",
    "\n",
    "with open('trncrowding.zip', 'wb') as f:\n",
    "    r = requests.get(url)\n",
    "    f.write(r.content)"
   ]
  },
  {
   "cell_type": "code",
   "execution_count": 4,
   "metadata": {},
   "outputs": [],
   "source": [
    "# Load the census tracts as a GeoDataFrame\n",
    "\n",
    "trncrowding = gpd.read_file('zip://trncrowding.zip')  # 'zip://' prefix clarifies format"
   ]
  },
  {
   "cell_type": "code",
   "execution_count": 5,
   "metadata": {},
   "outputs": [
    {
     "data": {
      "text/html": [
       "<div>\n",
       "<style scoped>\n",
       "    .dataframe tbody tr th:only-of-type {\n",
       "        vertical-align: middle;\n",
       "    }\n",
       "\n",
       "    .dataframe tbody tr th {\n",
       "        vertical-align: top;\n",
       "    }\n",
       "\n",
       "    .dataframe thead th {\n",
       "        text-align: right;\n",
       "    }\n",
       "</style>\n",
       "<table border=\"1\" class=\"dataframe\">\n",
       "  <thead>\n",
       "    <tr style=\"text-align: right;\">\n",
       "      <th></th>\n",
       "      <th>A</th>\n",
       "      <th>B</th>\n",
       "      <th>MODE</th>\n",
       "      <th>NAME</th>\n",
       "      <th>TP</th>\n",
       "      <th>LOAD</th>\n",
       "      <th>geometry</th>\n",
       "    </tr>\n",
       "  </thead>\n",
       "  <tbody>\n",
       "    <tr>\n",
       "      <th>0</th>\n",
       "      <td>4000</td>\n",
       "      <td>4008</td>\n",
       "      <td>22</td>\n",
       "      <td>40_CBW</td>\n",
       "      <td>AM</td>\n",
       "      <td>0.277</td>\n",
       "      <td>LINESTRING (6065001.695 2130313.85188, 6066666...</td>\n",
       "    </tr>\n",
       "    <tr>\n",
       "      <th>1</th>\n",
       "      <td>4018</td>\n",
       "      <td>4008</td>\n",
       "      <td>22</td>\n",
       "      <td>40_VE</td>\n",
       "      <td>EV</td>\n",
       "      <td>0.049</td>\n",
       "      <td>LINESTRING (6067765.62349 2128408.12983, 60666...</td>\n",
       "    </tr>\n",
       "    <tr>\n",
       "      <th>2</th>\n",
       "      <td>103456</td>\n",
       "      <td>4008</td>\n",
       "      <td>22</td>\n",
       "      <td>40_CBW</td>\n",
       "      <td>AM</td>\n",
       "      <td>0.129</td>\n",
       "      <td>LINESTRING (6064367.73359 2133807.4221, 606666...</td>\n",
       "    </tr>\n",
       "    <tr>\n",
       "      <th>3</th>\n",
       "      <td>4000</td>\n",
       "      <td>13080</td>\n",
       "      <td>22</td>\n",
       "      <td>40_CBW</td>\n",
       "      <td>AM</td>\n",
       "      <td>0.129</td>\n",
       "      <td>LINESTRING (6065001.695 2130313.85188, 6063748...</td>\n",
       "    </tr>\n",
       "    <tr>\n",
       "      <th>4</th>\n",
       "      <td>4002</td>\n",
       "      <td>4026</td>\n",
       "      <td>18</td>\n",
       "      <td>40_18W</td>\n",
       "      <td>AM</td>\n",
       "      <td>0.000</td>\n",
       "      <td>LINESTRING (6068167.11572 2127707.98838, 60690...</td>\n",
       "    </tr>\n",
       "  </tbody>\n",
       "</table>\n",
       "</div>"
      ],
      "text/plain": [
       "        A      B  MODE    NAME  TP   LOAD  \\\n",
       "0    4000   4008    22  40_CBW  AM  0.277   \n",
       "1    4018   4008    22   40_VE  EV  0.049   \n",
       "2  103456   4008    22  40_CBW  AM  0.129   \n",
       "3    4000  13080    22  40_CBW  AM  0.129   \n",
       "4    4002   4026    18  40_18W  AM  0.000   \n",
       "\n",
       "                                            geometry  \n",
       "0  LINESTRING (6065001.695 2130313.85188, 6066666...  \n",
       "1  LINESTRING (6067765.62349 2128408.12983, 60666...  \n",
       "2  LINESTRING (6064367.73359 2133807.4221, 606666...  \n",
       "3  LINESTRING (6065001.695 2130313.85188, 6063748...  \n",
       "4  LINESTRING (6068167.11572 2127707.98838, 60690...  "
      ]
     },
     "execution_count": 5,
     "metadata": {},
     "output_type": "execute_result"
    }
   ],
   "source": [
    "trncrowding.head()"
   ]
  },
  {
   "cell_type": "code",
   "execution_count": 6,
   "metadata": {},
   "outputs": [
    {
     "name": "stdout",
     "output_type": "stream",
     "text": [
      "LINESTRING (6065001.695 2130313.85188, 6066666.77451 2130407.24515)\n"
     ]
    }
   ],
   "source": [
    "# I don't understand what does these number means...maybe result from the projection??\n",
    "print(trncrowding.geometry[0]) "
   ]
  },
  {
   "cell_type": "markdown",
   "metadata": {},
   "source": [
    "## Transit Analysis Zone"
   ]
  },
  {
   "cell_type": "code",
   "execution_count": 7,
   "metadata": {},
   "outputs": [],
   "source": [
    "# Get TAZ data from jobpop data\n",
    "\n",
    "url = 'https://connectsf-populationandjobs.sfcta.org/assets/connectsf/jobpop.zip'\n",
    "\n",
    "with open('jobpop.zip', 'wb') as f:\n",
    "    r = requests.get(url)\n",
    "    f.write(r.content)"
   ]
  },
  {
   "cell_type": "code",
   "execution_count": 8,
   "metadata": {},
   "outputs": [],
   "source": [
    "jobpop = gpd.read_file('zip://jobpop.zip')"
   ]
  },
  {
   "cell_type": "code",
   "execution_count": 9,
   "metadata": {},
   "outputs": [
    {
     "data": {
      "text/html": [
       "<div>\n",
       "<style scoped>\n",
       "    .dataframe tbody tr th:only-of-type {\n",
       "        vertical-align: middle;\n",
       "    }\n",
       "\n",
       "    .dataframe tbody tr th {\n",
       "        vertical-align: top;\n",
       "    }\n",
       "\n",
       "    .dataframe thead th {\n",
       "        text-align: right;\n",
       "    }\n",
       "</style>\n",
       "<table border=\"1\" class=\"dataframe\">\n",
       "  <thead>\n",
       "    <tr style=\"text-align: right;\">\n",
       "      <th></th>\n",
       "      <th>TAZ</th>\n",
       "      <th>AREALAND</th>\n",
       "      <th>AREAWATR</th>\n",
       "      <th>Nhood</th>\n",
       "      <th>nhood_num</th>\n",
       "      <th>lg_nhood</th>\n",
       "      <th>lg_nhd_num</th>\n",
       "      <th>SQ_MILE</th>\n",
       "      <th>geometry</th>\n",
       "    </tr>\n",
       "  </thead>\n",
       "  <tbody>\n",
       "    <tr>\n",
       "      <th>0</th>\n",
       "      <td>1</td>\n",
       "      <td>931073</td>\n",
       "      <td>0</td>\n",
       "      <td>Visitacion Valley</td>\n",
       "      <td>31</td>\n",
       "      <td>Bayshore</td>\n",
       "      <td>9</td>\n",
       "      <td>0.03340</td>\n",
       "      <td>POLYGON ((6007378.500054573 2086055.37391938, ...</td>\n",
       "    </tr>\n",
       "    <tr>\n",
       "      <th>1</th>\n",
       "      <td>2</td>\n",
       "      <td>1825218</td>\n",
       "      <td>0</td>\n",
       "      <td>Ocean View/Ingleside</td>\n",
       "      <td>36</td>\n",
       "      <td>Outer Mission</td>\n",
       "      <td>10</td>\n",
       "      <td>0.06547</td>\n",
       "      <td>POLYGON ((5992137.499592379 2086335.12355164, ...</td>\n",
       "    </tr>\n",
       "    <tr>\n",
       "      <th>2</th>\n",
       "      <td>3</td>\n",
       "      <td>1360855</td>\n",
       "      <td>0</td>\n",
       "      <td>Visitacion Valley</td>\n",
       "      <td>31</td>\n",
       "      <td>Bayshore</td>\n",
       "      <td>9</td>\n",
       "      <td>0.04881</td>\n",
       "      <td>POLYGON ((6004983.499220342 2086750.499936027,...</td>\n",
       "    </tr>\n",
       "    <tr>\n",
       "      <th>3</th>\n",
       "      <td>4</td>\n",
       "      <td>1596024</td>\n",
       "      <td>0</td>\n",
       "      <td>Outer Mission/Mission Terrace</td>\n",
       "      <td>34</td>\n",
       "      <td>Outer Mission</td>\n",
       "      <td>10</td>\n",
       "      <td>0.05725</td>\n",
       "      <td>POLYGON ((5994473.501130554 2087145.000032395,...</td>\n",
       "    </tr>\n",
       "    <tr>\n",
       "      <th>4</th>\n",
       "      <td>5</td>\n",
       "      <td>1064261</td>\n",
       "      <td>0</td>\n",
       "      <td>Visitacion Valley</td>\n",
       "      <td>31</td>\n",
       "      <td>Bayshore</td>\n",
       "      <td>9</td>\n",
       "      <td>0.03818</td>\n",
       "      <td>POLYGON ((6006265.000917536 2086079.750239403,...</td>\n",
       "    </tr>\n",
       "  </tbody>\n",
       "</table>\n",
       "</div>"
      ],
      "text/plain": [
       "   TAZ  AREALAND  AREAWATR                          Nhood  nhood_num  \\\n",
       "0    1    931073         0              Visitacion Valley         31   \n",
       "1    2   1825218         0           Ocean View/Ingleside         36   \n",
       "2    3   1360855         0              Visitacion Valley         31   \n",
       "3    4   1596024         0  Outer Mission/Mission Terrace         34   \n",
       "4    5   1064261         0              Visitacion Valley         31   \n",
       "\n",
       "        lg_nhood  lg_nhd_num  SQ_MILE  \\\n",
       "0       Bayshore           9  0.03340   \n",
       "1  Outer Mission          10  0.06547   \n",
       "2       Bayshore           9  0.04881   \n",
       "3  Outer Mission          10  0.05725   \n",
       "4       Bayshore           9  0.03818   \n",
       "\n",
       "                                            geometry  \n",
       "0  POLYGON ((6007378.500054573 2086055.37391938, ...  \n",
       "1  POLYGON ((5992137.499592379 2086335.12355164, ...  \n",
       "2  POLYGON ((6004983.499220342 2086750.499936027,...  \n",
       "3  POLYGON ((5994473.501130554 2087145.000032395,...  \n",
       "4  POLYGON ((6006265.000917536 2086079.750239403,...  "
      ]
     },
     "execution_count": 9,
     "metadata": {},
     "output_type": "execute_result"
    }
   ],
   "source": [
    "jobpop.head()"
   ]
  },
  {
   "cell_type": "code",
   "execution_count": 10,
   "metadata": {},
   "outputs": [],
   "source": [
    "taz=jobpop[['TAZ','geometry']].copy()"
   ]
  },
  {
   "cell_type": "code",
   "execution_count": 11,
   "metadata": {},
   "outputs": [
    {
     "data": {
      "text/html": [
       "<div>\n",
       "<style scoped>\n",
       "    .dataframe tbody tr th:only-of-type {\n",
       "        vertical-align: middle;\n",
       "    }\n",
       "\n",
       "    .dataframe tbody tr th {\n",
       "        vertical-align: top;\n",
       "    }\n",
       "\n",
       "    .dataframe thead th {\n",
       "        text-align: right;\n",
       "    }\n",
       "</style>\n",
       "<table border=\"1\" class=\"dataframe\">\n",
       "  <thead>\n",
       "    <tr style=\"text-align: right;\">\n",
       "      <th></th>\n",
       "      <th>TAZ</th>\n",
       "      <th>geometry</th>\n",
       "    </tr>\n",
       "  </thead>\n",
       "  <tbody>\n",
       "    <tr>\n",
       "      <th>0</th>\n",
       "      <td>1</td>\n",
       "      <td>POLYGON ((6007378.500054573 2086055.37391938, ...</td>\n",
       "    </tr>\n",
       "    <tr>\n",
       "      <th>1</th>\n",
       "      <td>2</td>\n",
       "      <td>POLYGON ((5992137.499592379 2086335.12355164, ...</td>\n",
       "    </tr>\n",
       "    <tr>\n",
       "      <th>2</th>\n",
       "      <td>3</td>\n",
       "      <td>POLYGON ((6004983.499220342 2086750.499936027,...</td>\n",
       "    </tr>\n",
       "    <tr>\n",
       "      <th>3</th>\n",
       "      <td>4</td>\n",
       "      <td>POLYGON ((5994473.501130554 2087145.000032395,...</td>\n",
       "    </tr>\n",
       "    <tr>\n",
       "      <th>4</th>\n",
       "      <td>5</td>\n",
       "      <td>POLYGON ((6006265.000917536 2086079.750239403,...</td>\n",
       "    </tr>\n",
       "  </tbody>\n",
       "</table>\n",
       "</div>"
      ],
      "text/plain": [
       "   TAZ                                           geometry\n",
       "0    1  POLYGON ((6007378.500054573 2086055.37391938, ...\n",
       "1    2  POLYGON ((5992137.499592379 2086335.12355164, ...\n",
       "2    3  POLYGON ((6004983.499220342 2086750.499936027,...\n",
       "3    4  POLYGON ((5994473.501130554 2087145.000032395,...\n",
       "4    5  POLYGON ((6006265.000917536 2086079.750239403,..."
      ]
     },
     "execution_count": 11,
     "metadata": {},
     "output_type": "execute_result"
    }
   ],
   "source": [
    "taz.head()"
   ]
  },
  {
   "cell_type": "markdown",
   "metadata": {},
   "source": [
    "## Linking Transit Crowding and TAZ"
   ]
  },
  {
   "cell_type": "code",
   "execution_count": 12,
   "metadata": {},
   "outputs": [],
   "source": [
    "merged = gpd.sjoin(trncrowding, taz, how='inner', op='contains')"
   ]
  },
  {
   "cell_type": "code",
   "execution_count": 13,
   "metadata": {},
   "outputs": [
    {
     "name": "stdout",
     "output_type": "stream",
     "text": [
      "{'init': 'epsg:2227'}\n",
      "{'init': 'epsg:2227'}\n"
     ]
    }
   ],
   "source": [
    "print(taz.crs)\n",
    "print(trncrowding.crs)"
   ]
  },
  {
   "cell_type": "code",
   "execution_count": 14,
   "metadata": {},
   "outputs": [],
   "source": [
    "taz_proj = taz.copy()\n",
    "taz_proj.crs = trncrowding.crs"
   ]
  },
  {
   "cell_type": "code",
   "execution_count": 15,
   "metadata": {},
   "outputs": [
    {
     "name": "stdout",
     "output_type": "stream",
     "text": [
      "{'init': 'epsg:2227'}\n"
     ]
    }
   ],
   "source": [
    "print(taz_proj.crs)"
   ]
  },
  {
   "cell_type": "code",
   "execution_count": 27,
   "metadata": {},
   "outputs": [],
   "source": [
    "merged = gpd.sjoin(taz, trncrowding, how='inner', op='intersects')"
   ]
  },
  {
   "cell_type": "code",
   "execution_count": 28,
   "metadata": {},
   "outputs": [
    {
     "data": {
      "text/html": [
       "<div>\n",
       "<style scoped>\n",
       "    .dataframe tbody tr th:only-of-type {\n",
       "        vertical-align: middle;\n",
       "    }\n",
       "\n",
       "    .dataframe tbody tr th {\n",
       "        vertical-align: top;\n",
       "    }\n",
       "\n",
       "    .dataframe thead th {\n",
       "        text-align: right;\n",
       "    }\n",
       "</style>\n",
       "<table border=\"1\" class=\"dataframe\">\n",
       "  <thead>\n",
       "    <tr style=\"text-align: right;\">\n",
       "      <th></th>\n",
       "      <th>TAZ</th>\n",
       "      <th>geometry</th>\n",
       "      <th>index_right</th>\n",
       "      <th>A</th>\n",
       "      <th>B</th>\n",
       "      <th>MODE</th>\n",
       "      <th>NAME</th>\n",
       "      <th>TP</th>\n",
       "      <th>LOAD</th>\n",
       "    </tr>\n",
       "  </thead>\n",
       "  <tbody>\n",
       "    <tr>\n",
       "      <th>0</th>\n",
       "      <td>1</td>\n",
       "      <td>POLYGON ((6007378.500054573 2086055.37391938, ...</td>\n",
       "      <td>13286</td>\n",
       "      <td>33605</td>\n",
       "      <td>20375</td>\n",
       "      <td>11</td>\n",
       "      <td>MUN9I</td>\n",
       "      <td>AM</td>\n",
       "      <td>0.110</td>\n",
       "    </tr>\n",
       "    <tr>\n",
       "      <th>5</th>\n",
       "      <td>6</td>\n",
       "      <td>POLYGON ((6008496.000471613 2086032.624223359,...</td>\n",
       "      <td>13286</td>\n",
       "      <td>33605</td>\n",
       "      <td>20375</td>\n",
       "      <td>11</td>\n",
       "      <td>MUN9I</td>\n",
       "      <td>AM</td>\n",
       "      <td>0.110</td>\n",
       "    </tr>\n",
       "    <tr>\n",
       "      <th>0</th>\n",
       "      <td>1</td>\n",
       "      <td>POLYGON ((6007378.500054573 2086055.37391938, ...</td>\n",
       "      <td>13294</td>\n",
       "      <td>20375</td>\n",
       "      <td>33605</td>\n",
       "      <td>11</td>\n",
       "      <td>MUN9O</td>\n",
       "      <td>AM</td>\n",
       "      <td>0.093</td>\n",
       "    </tr>\n",
       "    <tr>\n",
       "      <th>5</th>\n",
       "      <td>6</td>\n",
       "      <td>POLYGON ((6008496.000471613 2086032.624223359,...</td>\n",
       "      <td>13294</td>\n",
       "      <td>20375</td>\n",
       "      <td>33605</td>\n",
       "      <td>11</td>\n",
       "      <td>MUN9O</td>\n",
       "      <td>AM</td>\n",
       "      <td>0.093</td>\n",
       "    </tr>\n",
       "    <tr>\n",
       "      <th>0</th>\n",
       "      <td>1</td>\n",
       "      <td>POLYGON ((6007378.500054573 2086055.37391938, ...</td>\n",
       "      <td>13285</td>\n",
       "      <td>20369</td>\n",
       "      <td>20375</td>\n",
       "      <td>11</td>\n",
       "      <td>MUN9O</td>\n",
       "      <td>AM</td>\n",
       "      <td>0.093</td>\n",
       "    </tr>\n",
       "  </tbody>\n",
       "</table>\n",
       "</div>"
      ],
      "text/plain": [
       "   TAZ                                           geometry  index_right      A  \\\n",
       "0    1  POLYGON ((6007378.500054573 2086055.37391938, ...        13286  33605   \n",
       "5    6  POLYGON ((6008496.000471613 2086032.624223359,...        13286  33605   \n",
       "0    1  POLYGON ((6007378.500054573 2086055.37391938, ...        13294  20375   \n",
       "5    6  POLYGON ((6008496.000471613 2086032.624223359,...        13294  20375   \n",
       "0    1  POLYGON ((6007378.500054573 2086055.37391938, ...        13285  20369   \n",
       "\n",
       "       B  MODE   NAME  TP   LOAD  \n",
       "0  20375    11  MUN9I  AM  0.110  \n",
       "5  20375    11  MUN9I  AM  0.110  \n",
       "0  33605    11  MUN9O  AM  0.093  \n",
       "5  33605    11  MUN9O  AM  0.093  \n",
       "0  20375    11  MUN9O  AM  0.093  "
      ]
     },
     "execution_count": 28,
     "metadata": {},
     "output_type": "execute_result"
    }
   ],
   "source": [
    "merged.head()"
   ]
  },
  {
   "cell_type": "code",
   "execution_count": 29,
   "metadata": {},
   "outputs": [
    {
     "data": {
      "text/plain": [
       "18230"
      ]
     },
     "execution_count": 29,
     "metadata": {},
     "output_type": "execute_result"
    }
   ],
   "source": [
    "len(merged)"
   ]
  },
  {
   "cell_type": "code",
   "execution_count": 30,
   "metadata": {},
   "outputs": [
    {
     "data": {
      "text/plain": [
       "981"
      ]
     },
     "execution_count": 30,
     "metadata": {},
     "output_type": "execute_result"
    }
   ],
   "source": [
    "len(taz)"
   ]
  },
  {
   "cell_type": "code",
   "execution_count": 31,
   "metadata": {},
   "outputs": [
    {
     "data": {
      "text/plain": [
       "25526"
      ]
     },
     "execution_count": 31,
     "metadata": {},
     "output_type": "execute_result"
    }
   ],
   "source": [
    "len(trncrowding)"
   ]
  },
  {
   "cell_type": "code",
   "execution_count": null,
   "metadata": {},
   "outputs": [],
   "source": [
    "#panda function to keep uniqle column index_right"
   ]
  }
 ],
 "metadata": {
  "kernelspec": {
   "display_name": "Python 3",
   "language": "python",
   "name": "python3"
  },
  "language_info": {
   "codemirror_mode": {
    "name": "ipython",
    "version": 3
   },
   "file_extension": ".py",
   "mimetype": "text/x-python",
   "name": "python",
   "nbconvert_exporter": "python",
   "pygments_lexer": "ipython3",
   "version": "3.6.9"
  }
 },
 "nbformat": 4,
 "nbformat_minor": 4
}
